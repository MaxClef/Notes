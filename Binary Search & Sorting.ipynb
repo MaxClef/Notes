{
 "cells": [
  {
   "cell_type": "code",
   "execution_count": 2,
   "metadata": {},
   "outputs": [],
   "source": [
    "import numpy as np\n",
    "import pandas as pd\n",
    "import scipy \n",
    "import random\n",
    "import matplotlib.pyplot as plt\n",
    "import seaborn as sns\n",
    "%matplotlib inline"
   ]
  },
  {
   "cell_type": "markdown",
   "metadata": {},
   "source": [
    "# Binary Search"
   ]
  },
  {
   "cell_type": "code",
   "execution_count": 2,
   "metadata": {},
   "outputs": [],
   "source": [
    "def binary_search(lst, item):\n",
    "    #set low and high values\n",
    "    low = 0\n",
    "    high = len(lst) - 1 #-1 because it starts at 0\n",
    "    \n",
    "    #create a loop to narrow down the list\n",
    "    while low <= high:\n",
    "        #set middle\n",
    "        mid = (low + high) // 2 \n",
    "        guess = lst[mid]\n",
    "        \n",
    "        if guess == item:\n",
    "            return mid\n",
    "        elif guess > item:\n",
    "            high = mid -1\n",
    "        else:\n",
    "            low = mid + 1\n",
    "    return None        "
   ]
  },
  {
   "cell_type": "code",
   "execution_count": 5,
   "metadata": {},
   "outputs": [
    {
     "name": "stdout",
     "output_type": "stream",
     "text": [
      "Wall time: 1.99 ms\n"
     ]
    }
   ],
   "source": [
    "%%time\n",
    "\n",
    "x = np.arange(1000000)\n",
    "y = 47854"
   ]
  },
  {
   "cell_type": "code",
   "execution_count": 4,
   "metadata": {},
   "outputs": [
    {
     "data": {
      "text/plain": [
       "47854"
      ]
     },
     "execution_count": 4,
     "metadata": {},
     "output_type": "execute_result"
    }
   ],
   "source": [
    "\n",
    "index = binary_search(x, y)\n",
    "x[index]"
   ]
  },
  {
   "cell_type": "code",
   "execution_count": null,
   "metadata": {},
   "outputs": [],
   "source": []
  },
  {
   "cell_type": "markdown",
   "metadata": {},
   "source": [
    "# Sort\n",
    "**Array: everything is stored next to eachother in memory.**\n",
    "* Pros: easy to access and easy to read.\n",
    "* Cons: have to move the entire array to a new place if not enough space. \n",
    "\n",
    "**Linked Lists: the items from the list can be anywhere in the memory.**\n",
    "* Pros: memory efficient\n",
    "* Cons: can not look for items within the list"
   ]
  },
  {
   "cell_type": "code",
   "execution_count": 3,
   "metadata": {},
   "outputs": [
    {
     "data": {
      "text/html": [
       "<style  type=\"text/css\" >\n",
       "</style><table id=\"T_bced68f1_4de3_11ec_aa72_3cf011a61cd2\" ><caption>Operations run time 'array' and 'list'</caption><thead>    <tr>        <th class=\"blank level0\" ></th>        <th class=\"col_heading level0 col0\" >Array</th>        <th class=\"col_heading level0 col1\" >List</th>    </tr></thead><tbody>\n",
       "                <tr>\n",
       "                        <th id=\"T_bced68f1_4de3_11ec_aa72_3cf011a61cd2level0_row0\" class=\"row_heading level0 row0\" >Reading</th>\n",
       "                        <td id=\"T_bced68f1_4de3_11ec_aa72_3cf011a61cd2row0_col0\" class=\"data row0 col0\" >O(1)</td>\n",
       "                        <td id=\"T_bced68f1_4de3_11ec_aa72_3cf011a61cd2row0_col1\" class=\"data row0 col1\" >O(n)</td>\n",
       "            </tr>\n",
       "            <tr>\n",
       "                        <th id=\"T_bced68f1_4de3_11ec_aa72_3cf011a61cd2level0_row1\" class=\"row_heading level0 row1\" >Inserting</th>\n",
       "                        <td id=\"T_bced68f1_4de3_11ec_aa72_3cf011a61cd2row1_col0\" class=\"data row1 col0\" >O(n)</td>\n",
       "                        <td id=\"T_bced68f1_4de3_11ec_aa72_3cf011a61cd2row1_col1\" class=\"data row1 col1\" >O(1)</td>\n",
       "            </tr>\n",
       "            <tr>\n",
       "                        <th id=\"T_bced68f1_4de3_11ec_aa72_3cf011a61cd2level0_row2\" class=\"row_heading level0 row2\" >Deleting</th>\n",
       "                        <td id=\"T_bced68f1_4de3_11ec_aa72_3cf011a61cd2row2_col0\" class=\"data row2 col0\" >O(n)</td>\n",
       "                        <td id=\"T_bced68f1_4de3_11ec_aa72_3cf011a61cd2row2_col1\" class=\"data row2 col1\" >O(1)</td>\n",
       "            </tr>\n",
       "    </tbody></table>"
      ],
      "text/plain": [
       "<pandas.io.formats.style.Styler at 0x26550d24280>"
      ]
     },
     "execution_count": 3,
     "metadata": {},
     "output_type": "execute_result"
    }
   ],
   "source": [
    "x = [\"Array\", \"List\"]\n",
    "y = [[\"O(1)\", \"O(n)\"], [\"O(n)\", \"O(1)\"], [\"O(n)\", \"O(1)\"]]\n",
    "index = [\"Reading\", \"Inserting\", \"Deleting\"]\n",
    "\n",
    "run_time = pd.DataFrame(y,columns=x, index=index)\n",
    "run_time.style.set_caption(\"Operations run time 'array' and 'list'\")\n",
    "\n",
    "#fig = plt.figure(figsize=(3,2))\n",
    "#ax = fig.add_subplot(111)\n",
    "\n",
    "#ax.table(cellText = run_time.values,\n",
    "#          rowLabels = run_time.index,\n",
    "#          colLabels = run_time.columns,\n",
    "#          loc = \"center\"\n",
    "#         )\n",
    "#ax.set_title(\"Operations run time 'array' and 'list'\")\n",
    "\n",
    "#ax.axis(\"off\");"
   ]
  },
  {
   "cell_type": "code",
   "execution_count": 6,
   "metadata": {},
   "outputs": [
    {
     "name": "stdout",
     "output_type": "stream",
     "text": [
      "Wall time: 0 ns\n"
     ]
    },
    {
     "data": {
      "text/plain": [
       "[2, 5, 6, 7, 10]"
      ]
     },
     "execution_count": 6,
     "metadata": {},
     "output_type": "execute_result"
    }
   ],
   "source": [
    "%%time\n",
    "\n",
    "# low but predictible performance\n",
    "\n",
    "def find_smallest(arr):\n",
    "    '''\n",
    "    The function find the smallest element (index) in the array\n",
    "    '''\n",
    "    smallest = arr[0]  # find the smallest value \n",
    "    smallest_index = 0 # find the index of the smalles value \n",
    "    \n",
    "    for i in range(1, len(arr)):\n",
    "        if arr[i] < smallest:\n",
    "            smallest = arr[i]\n",
    "            smallest_index = i\n",
    "    return smallest_index\n",
    "\n",
    "def selection_sort(arr):\n",
    "    '''\n",
    "    Function to sort an array\n",
    "    '''\n",
    "    new_arr = []\n",
    "    \n",
    "    for i in range(len(arr)):\n",
    "        smallest = find_smallest(arr)  # finds the smallest elemnt in the array\n",
    "        new_arr.append(arr.pop(smallest)) # add it to the new array and remove it form the original \"not permanent\"\n",
    "    return new_arr\n",
    "\n",
    "selection_sort([5, 7, 6, 2, 10])"
   ]
  }
 ],
 "metadata": {
  "kernelspec": {
   "display_name": "Python 3",
   "language": "python",
   "name": "python3"
  },
  "language_info": {
   "codemirror_mode": {
    "name": "ipython",
    "version": 3
   },
   "file_extension": ".py",
   "mimetype": "text/x-python",
   "name": "python",
   "nbconvert_exporter": "python",
   "pygments_lexer": "ipython3",
   "version": "3.8.5"
  }
 },
 "nbformat": 4,
 "nbformat_minor": 4
}
