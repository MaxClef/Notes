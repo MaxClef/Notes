{
 "cells": [
  {
   "cell_type": "code",
   "execution_count": 1,
   "metadata": {},
   "outputs": [],
   "source": [
    "import numpy as np\n",
    "import pandas as pd\n",
    "import matplotlib.pyplot as plt\n",
    "import seaborn as sns\n",
    "import re\n",
    "import nltk\n",
    "from nltk.corpus import stopwords\n",
    "from nltk.tokenize import word_tokenize\n",
    "import swifter  # making the iterations faster (I hope)"
   ]
  },
  {
   "cell_type": "code",
   "execution_count": 2,
   "metadata": {},
   "outputs": [
    {
     "data": {
      "text/html": [
       "<div>\n",
       "<style scoped>\n",
       "    .dataframe tbody tr th:only-of-type {\n",
       "        vertical-align: middle;\n",
       "    }\n",
       "\n",
       "    .dataframe tbody tr th {\n",
       "        vertical-align: top;\n",
       "    }\n",
       "\n",
       "    .dataframe thead th {\n",
       "        text-align: right;\n",
       "    }\n",
       "</style>\n",
       "<table border=\"1\" class=\"dataframe\">\n",
       "  <thead>\n",
       "    <tr style=\"text-align: right;\">\n",
       "      <th></th>\n",
       "      <th>0</th>\n",
       "      <th>1</th>\n",
       "      <th>2</th>\n",
       "      <th>3</th>\n",
       "      <th>4</th>\n",
       "    </tr>\n",
       "  </thead>\n",
       "  <tbody>\n",
       "    <tr>\n",
       "      <th>Text</th>\n",
       "      <td>RT @hudson_tamara Is there any chance one of t...</td>\n",
       "      <td>RT @7NewsMelbourne More than 1000 Volkswagen G...</td>\n",
       "      <td>RT @ScientistRebel1 After a protest in the lux...</td>\n",
       "      <td>RT @RayyLH44 RedBull has the best car they’ve ...</td>\n",
       "      <td>RT @7NewsMelbourne More than 1000 Volkswagen G...</td>\n",
       "    </tr>\n",
       "    <tr>\n",
       "      <th>TweetCreatedAt</th>\n",
       "      <td>11/01/2022</td>\n",
       "      <td>11/01/2022</td>\n",
       "      <td>11/01/2022</td>\n",
       "      <td>11/01/2022</td>\n",
       "      <td>11/01/2022</td>\n",
       "    </tr>\n",
       "    <tr>\n",
       "      <th>RetweetCount</th>\n",
       "      <td>766</td>\n",
       "      <td>4</td>\n",
       "      <td>148</td>\n",
       "      <td>127</td>\n",
       "      <td>4</td>\n",
       "    </tr>\n",
       "    <tr>\n",
       "      <th>LikeCount</th>\n",
       "      <td>0</td>\n",
       "      <td>0</td>\n",
       "      <td>0</td>\n",
       "      <td>0</td>\n",
       "      <td>0</td>\n",
       "    </tr>\n",
       "    <tr>\n",
       "      <th>ReplyCount</th>\n",
       "      <td>0</td>\n",
       "      <td>0</td>\n",
       "      <td>0</td>\n",
       "      <td>0</td>\n",
       "      <td>0</td>\n",
       "    </tr>\n",
       "    <tr>\n",
       "      <th>AuthorID</th>\n",
       "      <td>1543082477065015296</td>\n",
       "      <td>1255848224574763009</td>\n",
       "      <td>184282465</td>\n",
       "      <td>1544800667423891462</td>\n",
       "      <td>1257455326342729728</td>\n",
       "    </tr>\n",
       "    <tr>\n",
       "      <th>ScreenName</th>\n",
       "      <td>Carol Azrynna</td>\n",
       "      <td>News Sound Bites</td>\n",
       "      <td>Lady ApaulD</td>\n",
       "      <td>DFL Penguin 44</td>\n",
       "      <td>tariq</td>\n",
       "    </tr>\n",
       "    <tr>\n",
       "      <th>UserName</th>\n",
       "      <td>AzrynnaCarol</td>\n",
       "      <td>bites_sound</td>\n",
       "      <td>apaul57</td>\n",
       "      <td>DflPenguin</td>\n",
       "      <td>testok51981</td>\n",
       "    </tr>\n",
       "    <tr>\n",
       "      <th>UserProfile</th>\n",
       "      <td>NaN</td>\n",
       "      <td>A 🤖 curating news that keeps you informed with...</td>\n",
       "      <td>Photographer 📷 Street gardener🦜art 🎨let’s stop...</td>\n",
       "      <td>NaN</td>\n",
       "      <td>Working for the speaker network. visit our you...</td>\n",
       "    </tr>\n",
       "    <tr>\n",
       "      <th>Following</th>\n",
       "      <td>25</td>\n",
       "      <td>18</td>\n",
       "      <td>943</td>\n",
       "      <td>117</td>\n",
       "      <td>532</td>\n",
       "    </tr>\n",
       "    <tr>\n",
       "      <th>Followers</th>\n",
       "      <td>1</td>\n",
       "      <td>60</td>\n",
       "      <td>379</td>\n",
       "      <td>1</td>\n",
       "      <td>41</td>\n",
       "    </tr>\n",
       "    <tr>\n",
       "      <th>NumberTweets</th>\n",
       "      <td>11</td>\n",
       "      <td>189801</td>\n",
       "      <td>8624</td>\n",
       "      <td>237</td>\n",
       "      <td>2512</td>\n",
       "    </tr>\n",
       "    <tr>\n",
       "      <th>UserLocation</th>\n",
       "      <td>NaN</td>\n",
       "      <td>NaN</td>\n",
       "      <td>Murdoch f*ckd Australia</td>\n",
       "      <td>NaN</td>\n",
       "      <td>Melbourne  Victoria</td>\n",
       "    </tr>\n",
       "    <tr>\n",
       "      <th>Kind</th>\n",
       "      <td>retweeted</td>\n",
       "      <td>retweeted</td>\n",
       "      <td>retweeted</td>\n",
       "      <td>retweeted</td>\n",
       "      <td>retweeted</td>\n",
       "    </tr>\n",
       "    <tr>\n",
       "      <th>ReplyTo</th>\n",
       "      <td>NaN</td>\n",
       "      <td>NaN</td>\n",
       "      <td>NaN</td>\n",
       "      <td>NaN</td>\n",
       "      <td>NaN</td>\n",
       "    </tr>\n",
       "    <tr>\n",
       "      <th>RetweetedAuthor</th>\n",
       "      <td>hudson_tamara</td>\n",
       "      <td>7NewsMelbourne</td>\n",
       "      <td>ScientistRebel1</td>\n",
       "      <td>RayyLH44</td>\n",
       "      <td>7NewsMelbourne</td>\n",
       "    </tr>\n",
       "    <tr>\n",
       "      <th>TweetID</th>\n",
       "      <td>1587595246963429376</td>\n",
       "      <td>1587595145205227520</td>\n",
       "      <td>1587594991488356352</td>\n",
       "      <td>1587594626298482688</td>\n",
       "      <td>1587594381288435717</td>\n",
       "    </tr>\n",
       "  </tbody>\n",
       "</table>\n",
       "</div>"
      ],
      "text/plain": [
       "                                                                 0  \\\n",
       "Text             RT @hudson_tamara Is there any chance one of t...   \n",
       "TweetCreatedAt                                          11/01/2022   \n",
       "RetweetCount                                                   766   \n",
       "LikeCount                                                        0   \n",
       "ReplyCount                                                       0   \n",
       "AuthorID                                       1543082477065015296   \n",
       "ScreenName                                           Carol Azrynna   \n",
       "UserName                                              AzrynnaCarol   \n",
       "UserProfile                                                    NaN   \n",
       "Following                                                       25   \n",
       "Followers                                                        1   \n",
       "NumberTweets                                                    11   \n",
       "UserLocation                                                   NaN   \n",
       "Kind                                                     retweeted   \n",
       "ReplyTo                                                        NaN   \n",
       "RetweetedAuthor                                      hudson_tamara   \n",
       "TweetID                                        1587595246963429376   \n",
       "\n",
       "                                                                 1  \\\n",
       "Text             RT @7NewsMelbourne More than 1000 Volkswagen G...   \n",
       "TweetCreatedAt                                          11/01/2022   \n",
       "RetweetCount                                                     4   \n",
       "LikeCount                                                        0   \n",
       "ReplyCount                                                       0   \n",
       "AuthorID                                       1255848224574763009   \n",
       "ScreenName                                        News Sound Bites   \n",
       "UserName                                               bites_sound   \n",
       "UserProfile      A 🤖 curating news that keeps you informed with...   \n",
       "Following                                                       18   \n",
       "Followers                                                       60   \n",
       "NumberTweets                                                189801   \n",
       "UserLocation                                                   NaN   \n",
       "Kind                                                     retweeted   \n",
       "ReplyTo                                                        NaN   \n",
       "RetweetedAuthor                                     7NewsMelbourne   \n",
       "TweetID                                        1587595145205227520   \n",
       "\n",
       "                                                                 2  \\\n",
       "Text             RT @ScientistRebel1 After a protest in the lux...   \n",
       "TweetCreatedAt                                          11/01/2022   \n",
       "RetweetCount                                                   148   \n",
       "LikeCount                                                        0   \n",
       "ReplyCount                                                       0   \n",
       "AuthorID                                                 184282465   \n",
       "ScreenName                                             Lady ApaulD   \n",
       "UserName                                                   apaul57   \n",
       "UserProfile      Photographer 📷 Street gardener🦜art 🎨let’s stop...   \n",
       "Following                                                      943   \n",
       "Followers                                                      379   \n",
       "NumberTweets                                                  8624   \n",
       "UserLocation                               Murdoch f*ckd Australia   \n",
       "Kind                                                     retweeted   \n",
       "ReplyTo                                                        NaN   \n",
       "RetweetedAuthor                                    ScientistRebel1   \n",
       "TweetID                                        1587594991488356352   \n",
       "\n",
       "                                                                 3  \\\n",
       "Text             RT @RayyLH44 RedBull has the best car they’ve ...   \n",
       "TweetCreatedAt                                          11/01/2022   \n",
       "RetweetCount                                                   127   \n",
       "LikeCount                                                        0   \n",
       "ReplyCount                                                       0   \n",
       "AuthorID                                       1544800667423891462   \n",
       "ScreenName                                          DFL Penguin 44   \n",
       "UserName                                                DflPenguin   \n",
       "UserProfile                                                    NaN   \n",
       "Following                                                      117   \n",
       "Followers                                                        1   \n",
       "NumberTweets                                                   237   \n",
       "UserLocation                                                   NaN   \n",
       "Kind                                                     retweeted   \n",
       "ReplyTo                                                        NaN   \n",
       "RetweetedAuthor                                           RayyLH44   \n",
       "TweetID                                        1587594626298482688   \n",
       "\n",
       "                                                                 4  \n",
       "Text             RT @7NewsMelbourne More than 1000 Volkswagen G...  \n",
       "TweetCreatedAt                                          11/01/2022  \n",
       "RetweetCount                                                     4  \n",
       "LikeCount                                                        0  \n",
       "ReplyCount                                                       0  \n",
       "AuthorID                                       1257455326342729728  \n",
       "ScreenName                                                   tariq  \n",
       "UserName                                               testok51981  \n",
       "UserProfile      Working for the speaker network. visit our you...  \n",
       "Following                                                      532  \n",
       "Followers                                                       41  \n",
       "NumberTweets                                                  2512  \n",
       "UserLocation                                   Melbourne  Victoria  \n",
       "Kind                                                     retweeted  \n",
       "ReplyTo                                                        NaN  \n",
       "RetweetedAuthor                                     7NewsMelbourne  \n",
       "TweetID                                        1587594381288435717  "
      ]
     },
     "execution_count": 2,
     "metadata": {},
     "output_type": "execute_result"
    }
   ],
   "source": [
    "# importing data\n",
    "df = pd.read_csv(\"twitter_fetch - Copy.csv\")\n",
    "df.head().T"
   ]
  },
  {
   "cell_type": "code",
   "execution_count": 3,
   "metadata": {},
   "outputs": [
    {
     "name": "stdout",
     "output_type": "stream",
     "text": [
      "8 features are integer type\n",
      "0 features are float type\n",
      "9 features are object type\n",
      "17 Total features\n",
      "20622 Observations\n"
     ]
    },
    {
     "data": {
      "text/html": [
       "<div>\n",
       "<style scoped>\n",
       "    .dataframe tbody tr th:only-of-type {\n",
       "        vertical-align: middle;\n",
       "    }\n",
       "\n",
       "    .dataframe tbody tr th {\n",
       "        vertical-align: top;\n",
       "    }\n",
       "\n",
       "    .dataframe thead th {\n",
       "        text-align: right;\n",
       "    }\n",
       "</style>\n",
       "<table border=\"1\" class=\"dataframe\">\n",
       "  <thead>\n",
       "    <tr style=\"text-align: right;\">\n",
       "      <th></th>\n",
       "      <th>Unique Values</th>\n",
       "      <th>Type</th>\n",
       "      <th>Missing_num</th>\n",
       "      <th>Missing_%</th>\n",
       "    </tr>\n",
       "  </thead>\n",
       "  <tbody>\n",
       "    <tr>\n",
       "      <th>Text</th>\n",
       "      <td>10574</td>\n",
       "      <td>Obj</td>\n",
       "      <td>0</td>\n",
       "      <td>0.0%</td>\n",
       "    </tr>\n",
       "    <tr>\n",
       "      <th>TweetCreatedAt</th>\n",
       "      <td>6</td>\n",
       "      <td>Obj</td>\n",
       "      <td>0</td>\n",
       "      <td>0.0%</td>\n",
       "    </tr>\n",
       "    <tr>\n",
       "      <th>RetweetCount</th>\n",
       "      <td>125</td>\n",
       "      <td>int</td>\n",
       "      <td>0</td>\n",
       "      <td>0.0%</td>\n",
       "    </tr>\n",
       "    <tr>\n",
       "      <th>LikeCount</th>\n",
       "      <td>194</td>\n",
       "      <td>int</td>\n",
       "      <td>0</td>\n",
       "      <td>0.0%</td>\n",
       "    </tr>\n",
       "    <tr>\n",
       "      <th>ReplyCount</th>\n",
       "      <td>49</td>\n",
       "      <td>int</td>\n",
       "      <td>0</td>\n",
       "      <td>0.0%</td>\n",
       "    </tr>\n",
       "    <tr>\n",
       "      <th>AuthorID</th>\n",
       "      <td>16130</td>\n",
       "      <td>int</td>\n",
       "      <td>0</td>\n",
       "      <td>0.0%</td>\n",
       "    </tr>\n",
       "    <tr>\n",
       "      <th>ScreenName</th>\n",
       "      <td>15753</td>\n",
       "      <td>Obj</td>\n",
       "      <td>3</td>\n",
       "      <td>0.015%</td>\n",
       "    </tr>\n",
       "    <tr>\n",
       "      <th>UserName</th>\n",
       "      <td>16130</td>\n",
       "      <td>Obj</td>\n",
       "      <td>0</td>\n",
       "      <td>0.0%</td>\n",
       "    </tr>\n",
       "    <tr>\n",
       "      <th>UserProfile</th>\n",
       "      <td>12794</td>\n",
       "      <td>Obj</td>\n",
       "      <td>3773</td>\n",
       "      <td>18.296%</td>\n",
       "    </tr>\n",
       "    <tr>\n",
       "      <th>Following</th>\n",
       "      <td>3618</td>\n",
       "      <td>int</td>\n",
       "      <td>0</td>\n",
       "      <td>0.0%</td>\n",
       "    </tr>\n",
       "    <tr>\n",
       "      <th>Followers</th>\n",
       "      <td>3999</td>\n",
       "      <td>int</td>\n",
       "      <td>0</td>\n",
       "      <td>0.0%</td>\n",
       "    </tr>\n",
       "    <tr>\n",
       "      <th>NumberTweets</th>\n",
       "      <td>12067</td>\n",
       "      <td>int</td>\n",
       "      <td>0</td>\n",
       "      <td>0.0%</td>\n",
       "    </tr>\n",
       "    <tr>\n",
       "      <th>UserLocation</th>\n",
       "      <td>5879</td>\n",
       "      <td>Obj</td>\n",
       "      <td>8031</td>\n",
       "      <td>38.944%</td>\n",
       "    </tr>\n",
       "    <tr>\n",
       "      <th>Kind</th>\n",
       "      <td>3</td>\n",
       "      <td>Obj</td>\n",
       "      <td>5261</td>\n",
       "      <td>25.512%</td>\n",
       "    </tr>\n",
       "    <tr>\n",
       "      <th>ReplyTo</th>\n",
       "      <td>2534</td>\n",
       "      <td>Obj</td>\n",
       "      <td>16958</td>\n",
       "      <td>82.233%</td>\n",
       "    </tr>\n",
       "    <tr>\n",
       "      <th>RetweetedAuthor</th>\n",
       "      <td>982</td>\n",
       "      <td>Obj</td>\n",
       "      <td>9309</td>\n",
       "      <td>45.141%</td>\n",
       "    </tr>\n",
       "    <tr>\n",
       "      <th>TweetID</th>\n",
       "      <td>20622</td>\n",
       "      <td>int</td>\n",
       "      <td>0</td>\n",
       "      <td>0.0%</td>\n",
       "    </tr>\n",
       "  </tbody>\n",
       "</table>\n",
       "</div>"
      ],
      "text/plain": [
       "                Unique Values Type Missing_num Missing_%\n",
       "Text                    10574  Obj           0      0.0%\n",
       "TweetCreatedAt              6  Obj           0      0.0%\n",
       "RetweetCount              125  int           0      0.0%\n",
       "LikeCount                 194  int           0      0.0%\n",
       "ReplyCount                 49  int           0      0.0%\n",
       "AuthorID                16130  int           0      0.0%\n",
       "ScreenName              15753  Obj           3    0.015%\n",
       "UserName                16130  Obj           0      0.0%\n",
       "UserProfile             12794  Obj        3773   18.296%\n",
       "Following                3618  int           0      0.0%\n",
       "Followers                3999  int           0      0.0%\n",
       "NumberTweets            12067  int           0      0.0%\n",
       "UserLocation             5879  Obj        8031   38.944%\n",
       "Kind                        3  Obj        5261   25.512%\n",
       "ReplyTo                  2534  Obj       16958   82.233%\n",
       "RetweetedAuthor           982  Obj        9309   45.141%\n",
       "TweetID                 20622  int           0      0.0%"
      ]
     },
     "execution_count": 3,
     "metadata": {},
     "output_type": "execute_result"
    }
   ],
   "source": [
    "# function to get basic information about the data\n",
    "def basic_info (df):\n",
    "    '''\n",
    "    Docstring: getting basic information\n",
    "        1. number of unique values in each variable\n",
    "        2. the type of values each feature has\n",
    "        3. number of missing values in each feature\n",
    "        4. number of missing values in each feature (%)\n",
    "    '''\n",
    "    \n",
    "    feat_int = 0\n",
    "    feat_float = 0\n",
    "    feat_cat = 0\n",
    "    value_count_dict = {}\n",
    "    \n",
    "    for i in df:\n",
    "        '''\n",
    "        1. create a dict [unique val, type, missing val]\n",
    "        2. count num of feat types\n",
    "        '''\n",
    "        if df[i].dtype == \"O\":\n",
    "            value_count_dict[i] = [len(df[i].value_counts()), \"Obj\", df[i].isna().sum()]\n",
    "            feat_cat += 1\n",
    "        elif df[i].dtype == \"int64\":\n",
    "            value_count_dict[i] = [len(df[i].value_counts()), \"int\", df[i].isna().sum()]\n",
    "            feat_int += 1\n",
    "        else:\n",
    "            value_count_dict[i] = [len(df[i].value_counts()), \"float\", df[i].isna().sum()]\n",
    "            feat_float += 1\n",
    "\n",
    "    # feat in total\n",
    "    total_feat_num = sum([feat_int, feat_float, feat_cat])  \n",
    "\n",
    "    # print \n",
    "    print(f\"{feat_int} features are integer type\")\n",
    "    print(f\"{feat_float} features are float type\")\n",
    "    print(f\"{feat_cat} features are object type\")\n",
    "    print(f\"{total_feat_num} Total features\")\n",
    "    print(f\"{len(df)} Observations\")\n",
    "\n",
    "    # create df\n",
    "    value_info = pd.DataFrame(value_count_dict)\n",
    "\n",
    "    # rename cols\n",
    "    value_info = value_info.T.rename(columns={0: \"Unique Values\", 1: \"Type\", 2: \"Missing_num\"}) \n",
    "\n",
    "    # add col with percentage of missing values\n",
    "    value_info[\"Missing_%\"] = list(map(lambda x: str(round(x/len(df)*100, 3)) + \"%\", \n",
    "                                   list(value_info[\"Missing_num\"])))\n",
    "\n",
    "\n",
    "    return value_info\n",
    "\n",
    "\n",
    "basic_info(df)"
   ]
  },
  {
   "cell_type": "markdown",
   "metadata": {},
   "source": [
    "## Looking at the `Kind` of tweets in the data\n",
    "\n",
    "**Note: 25.512% of the data is missing**"
   ]
  },
  {
   "cell_type": "code",
   "execution_count": 4,
   "metadata": {},
   "outputs": [
    {
     "data": {
      "image/png": "[encoded data removed]",
      "text/plain": [
       "<Figure size 1440x288 with 1 Axes>"
      ]
     },
     "metadata": {
      "needs_background": "light"
     },
     "output_type": "display_data"
    }
   ],
   "source": [
    "# Visualizing\n",
    "annot_place_1 = 60\n",
    "annote_place_2 = -40\n",
    "figure, ax = plt.subplots(figsize = (20, 4))\n",
    "ax = sns.countplot(data = df, y = \"Kind\", palette = \"dark:salmon_r\", order = df.Kind.value_counts().index)\n",
    "ax.set_xlim(0, 15000)\n",
    "ax.set(ylabel = None, xlabel = None)\n",
    "plt.title(f\"'Kind' Count Plot for the Entire Period\")\n",
    "sns.set(font_scale = 1.35)\n",
    "\n",
    "for p in ax.patches:\n",
    "    ax.annotate(int(p.get_width()),((p.get_x() + p.get_width()) , p.get_y()), xytext=(annot_place_1, annote_place_2),\n",
    "                fontsize = 20,color = \"#5257B9\", textcoords = 'offset points', horizontalalignment = 'right')\n",
    "        \n",
    "plt.show();"
   ]
  },
  {
   "cell_type": "markdown",
   "metadata": {},
   "source": [
    "## Looking at the Number of tweets fro each day"
   ]
  },
  {
   "cell_type": "code",
   "execution_count": 59,
   "metadata": {},
   "outputs": [
    {
     "data": {
      "image/png": "[encoded data removed]",
      "text/plain": [
       "<Figure size 1440x288 with 1 Axes>"
      ]
     },
     "metadata": {},
     "output_type": "display_data"
    }
   ],
   "source": [
    "# Visualizing \n",
    "\n",
    "annot_place_1 = 60\n",
    "annote_place_2 = -20\n",
    "figure, ax = plt.subplots(figsize = (20, 4))\n",
    "ax = sns.countplot(data = df, y = \"TweetCreatedAt\", palette = \"dark:salmon_r\", order = df.TweetCreatedAt.value_counts().index)\n",
    "ax.set_xlim(0, 15000)\n",
    "ax.set(ylabel = None, xlabel = None)\n",
    "plt.title(f\"Count Plot of Tweets for Each Day\")\n",
    "sns.set(font_scale = 1.50)\n",
    "\n",
    "for p in ax.patches:\n",
    "    ax.annotate(int(p.get_width()),((p.get_x() + p.get_width()) , p.get_y()), xytext=(annot_place_1, annote_place_2),\n",
    "                fontsize = 20,color = \"#5257B9\", textcoords = 'offset points', horizontalalignment = 'right')\n",
    "        \n",
    "plt.show();"
   ]
  },
  {
   "cell_type": "code",
   "execution_count": 6,
   "metadata": {},
   "outputs": [
    {
     "data": {
      "text/plain": [
       "Power_divergenceResult(statistic=446.9845795752109, pvalue=2.196347069349957e-94)"
      ]
     },
     "execution_count": 6,
     "metadata": {},
     "output_type": "execute_result"
    }
   ],
   "source": [
    "# checking if there is a significant difference between the days and number of tweets\n",
    "#    H0: There is no significant difference in distribution of tweets between each day\n",
    "#    Ha: There is a significant difference in distribution of tweets between each day\n",
    "import scipy.stats as stats\n",
    "goodness_text = stats.chisquare(df.TweetCreatedAt.value_counts().values)\n",
    "goodness_text"
   ]
  },
  {
   "cell_type": "markdown",
   "metadata": {},
   "source": [
    "**Based on the result above `((df = 1, N = 20622)= 446.99; p = 0.001)` we can drop H0. Meaning there is a significant difference between the number of tweets in each day**"
   ]
  },
  {
   "cell_type": "markdown",
   "metadata": {},
   "source": [
    "## Looking at the type of tweet for each day"
   ]
  },
  {
   "cell_type": "code",
   "execution_count": 7,
   "metadata": {},
   "outputs": [
    {
     "data": {
      "image/png": "[encoded data removed]",
      "text/plain": [
       "<Figure size 1080x360 with 2 Axes>"
      ]
     },
     "metadata": {},
     "output_type": "display_data"
    }
   ],
   "source": [
    "sns.set(font_scale = 2)\n",
    "\n",
    "figure, ax = plt.subplots(figsize = (15, 5))\n",
    "ax = sns.heatmap(pd.crosstab(df.TweetCreatedAt, df.Kind, margins = False), annot = True, \n",
    "                 cmap = \"YlOrRd\", fmt = \"g\")\n",
    "ax.set(ylabel = None, xlabel = None)\n",
    "plt.title(\"'Kind' Counts by Day\");"
   ]
  },
  {
   "cell_type": "markdown",
   "metadata": {},
   "source": [
    "## Top 5 most tweeted tweets\n",
    "\n",
    "**By day**"
   ]
  },
  {
   "cell_type": "code",
   "execution_count": 8,
   "metadata": {
    "scrolled": false
   },
   "outputs": [
    {
     "name": "stdout",
     "output_type": "stream",
     "text": [
      "10/27/2022 :\n",
      "\n",
      "Tweeted 346 times :  RT @eliudkibii Fresh details have emerged regarding the car that was initially reported stolen  prompting the shooting of  journalist #AshrafSharif. The alleged stolen vehicle is a Mercedes Benz Sprinter van KDJ 700F while the one Arshad was travelling in is a Toyota Landcruiser V8 KDJ 200M.1/3\n",
      "---------------------------------------- \n",
      "\n",
      "Tweeted 220 times :  RT @generalrich @raypaxful @Jack_ng01 @PeterObi Mercedes sells status  not cars.  Budweiser sells good times  not beer.  Coca Cola sells happiness  not soft drinks.  Labour Party sells Character  Competence  and Capacity  not a Politician.  The best marketers sell emotions  not items.  #ObiDatti2023\n",
      "---------------------------------------- \n",
      "\n",
      "Tweeted 132 times :  RT @F1DataAnalysis The Red Bull RB18 is the car with the 9th most dominant results  more than the 2020 Mercedes (the fastest race car ever raced) and slightly less than the F2004 #F1  📸 @realDriver61 https://t.co/ZY2Hlolqub\n",
      "---------------------------------------- \n",
      "\n",
      "Tweeted 99 times :  RT @SergiyKyslytsya .@MercedesBenz decided to leave russia after how many months the invasion started? For cars speed limit in Ger cities is 50 km/h unless otherwise stated. Under 46 hrs to cover 2291 km at this speed. Even walking from Moscow to MB HQ takes 20 days. Is Mercedes still fit for roads? https://t.co/tPqvsa7UDT\n",
      "---------------------------------------- \n",
      "\n",
      "Tweeted 94 times :  RT @hudson_tamara Is there any chance one of the law enforcement agencies @TacomaPD @GigHarborPolice can follow up with the multiple address provided by @BMW @BMWUSA for my stolen car? Much appreciated.\n",
      "---------------------------------------- \n",
      "\n",
      "================================================================================ \n",
      "\n",
      "10/28/2022 :\n",
      "\n",
      "Tweeted 94 times :  RT @hudson_tamara Is there any chance one of the law enforcement agencies @TacomaPD @GigHarborPolice can follow up with the multiple address provided by @BMW @BMWUSA for my stolen car? Much appreciated.\n",
      "---------------------------------------- \n",
      "\n",
      "Tweeted 83 times :  RT @F1DataAnalysis The Red Bull RB18 is the car with the 9th most dominant results  more than the 2020 Mercedes (the fastest race car ever raced) and slightly less than the F2004 #F1  📸 @realDriver61 https://t.co/ZY2Hlolqub\n",
      "---------------------------------------- \n",
      "\n",
      "Tweeted 70 times :  RT @saloon_kada Thalaivan #SJSuryah imported A Brand New Kun BMW Z4M40i Car From German For His Upcoming Film #KILLER 🔥  SJS Back as Director After 8 Years✌🏽 Shoot Starts From 2023💥 https://t.co/3q20F2IvKK\n",
      "---------------------------------------- \n",
      "\n",
      "Tweeted 42 times :  RT @iam_SJSuryah Kun Bmw specifically made this Z4M40i car (imported from Germany) for My next Movie #KILLER Other updates &amp  Bommai release date will follow soon https://t.co/bAH9gp7CAU.  💐💐💐💐🥰🥰🥰🙏🙏🙏\n",
      "---------------------------------------- \n",
      "\n",
      "Tweeted 37 times :  RT @generalrich @raypaxful @Jack_ng01 @PeterObi Mercedes sells status  not cars.  Budweiser sells good times  not beer.  Coca Cola sells happiness  not soft drinks.  Labour Party sells Character  Competence  and Capacity  not a Politician.  The best marketers sell emotions  not items.  #ObiDatti2023\n",
      "---------------------------------------- \n",
      "\n",
      "================================================================================ \n",
      "\n",
      "10/29/2022 :\n",
      "\n",
      "Tweeted 629 times :  RT @ScientistRebel1 +++ BREAKING +++  13 members of Scientist Rebellion are currently glued to a car inside a BMW showroom in Munich  demanding the immediate decarbonization of the transport sector. #UniteAgainstClimateFailure (1/10) https://t.co/0QJYEqyfFP\n",
      "---------------------------------------- \n",
      "\n",
      "Tweeted 604 times :  RT @QasimKhanSuri How did police mistake the Toyota Land Cruiser  a large four-wheel-drive car  for the vehicle reported stolen - a Mercedes-Benz Sprinter  which is a delivery van?  Why did the police not try to demobilise the vehicle by shooting at the tyres? #ArshadSharif https://t.co/ruBY3wgdPu\n",
      "---------------------------------------- \n",
      "\n",
      "Tweeted 285 times :  RT @HamidMirPAK Important questions. How did police mistake the Toyota Land Cruiser a large four-wheel-drive car for the vehicle reported stolen - a Mercedes-Benz   which is a delivery van? Why did the police not try to demobilise the vehicle by shooting at the tyres? https://t.co/4Swft7xsZr\n",
      "---------------------------------------- \n",
      "\n",
      "Tweeted 246 times :  RT @wydccalamity Maturing means you understand that Mercedes makes the best cars\n",
      "---------------------------------------- \n",
      "\n",
      "Tweeted 91 times :  RT @hudson_tamara Is there any chance one of the law enforcement agencies @TacomaPD @GigHarborPolice can follow up with the multiple address provided by @BMW @BMWUSA for my stolen car? Much appreciated.\n",
      "---------------------------------------- \n",
      "\n",
      "================================================================================ \n",
      "\n",
      "10/30/2022 :\n",
      "\n",
      "Tweeted 224 times :  RT @ScientistRebel1 +++ BREAKING +++  13 members of Scientist Rebellion are currently glued to a car inside a BMW showroom in Munich  demanding the immediate decarbonization of the transport sector. #UniteAgainstClimateFailure (1/10) https://t.co/0QJYEqyfFP\n",
      "---------------------------------------- \n",
      "\n",
      "Tweeted 165 times :  RT @HamidMirPAK Important questions. How did police mistake the Toyota Land Cruiser a large four-wheel-drive car for the vehicle reported stolen - a Mercedes-Benz   which is a delivery van? Why did the police not try to demobilise the vehicle by shooting at the tyres? https://t.co/4Swft7xsZr\n",
      "---------------------------------------- \n",
      "\n",
      "Tweeted 93 times :  RT @hudson_tamara Is there any chance one of the law enforcement agencies @TacomaPD @GigHarborPolice can follow up with the multiple address provided by @BMW @BMWUSA for my stolen car? Much appreciated.\n",
      "---------------------------------------- \n",
      "\n",
      "Tweeted 61 times :  RT @DeepikaBhardwaj Husband didn't provide her with BMW so she keeps the AUDI Q7 of husband's company. Court says company can't be made a party to domestic Violence proceeding   In Matrimonial Dispute Case  Delhi High Court Directs Wife To Return Audi Q7 To Husband's Company https://t.co/FRXEfIfUYg\n",
      "---------------------------------------- \n",
      "\n",
      "Tweeted 55 times :  RT @QasimKhanSuri How did police mistake the Toyota Land Cruiser  a large four-wheel-drive car  for the vehicle reported stolen - a Mercedes-Benz Sprinter  which is a delivery van?  Why did the police not try to demobilise the vehicle by shooting at the tyres? #ArshadSharif https://t.co/ruBY3wgdPu\n",
      "---------------------------------------- \n",
      "\n",
      "================================================================================ \n",
      "\n",
      "10/31/2022 :\n",
      "\n",
      "Tweeted 895 times :  RT @pts The worst cars are named something like “Mercedes-Benz g575S” and cost $110 000 and you see four of them every day. The best cars are named something like “Daihatsu Buddywagon.” They cost $500 in Japan and are illegal anywhere else in the world.\n",
      "---------------------------------------- \n",
      "\n",
      "Tweeted 92 times :  RT @hudson_tamara Is there any chance one of the law enforcement agencies @TacomaPD @GigHarborPolice can follow up with the multiple address provided by @BMW @BMWUSA for my stolen car? Much appreciated.\n",
      "---------------------------------------- \n",
      "\n",
      "Tweeted 27 times :  RT @business Olaf Scholz is leading a trade delegation to China  bearing in mind Germany has a lot to lose if policy makers pull cars into a confrontation with Beijing  write @anjani_trivedi and @chrismbryant https://t.co/soXHgwI3NO via @opinion\n",
      "---------------------------------------- \n",
      "\n",
      "Tweeted 25 times :  RT @StatiSense WORLD LARGEST CAR COMPANIES 2021  1 🇯🇵Toyota 2 🇩🇪Volkswagen 3 🇩🇪Daimler 4 🇺🇲Ford Motors 5 🇯🇵Honda 6 🇺🇲General Motors 7 🇩🇪BMW 8 🇨🇳SAIC 9 🇨🇳FAW Group 10 🇰🇷Hyundai 11 🇨🇳Dongfeng 12 🇯🇵Nissan 13 🇨🇳BAIC Group 14 🇨🇳GAC Group 15 🇰🇷KIA 16 🇫🇷Renault 17 🇨🇳Geely 18 🇸🇪Volvo  #StatiSense\n",
      "---------------------------------------- \n",
      "\n",
      "Tweeted 24 times :  RT @evoIndia Q3. The year BMW came to India and which were the cars launched? A.2011 B. 2010 C. 2005 D. 2007 #BMWIndia  #50JahreBMWM  #50YearsOfBMWM  #BMWMotorsports  #ContestAlert  #Contest  #ContestAlertIndia #BMWxevoIndia @bmwindia\n",
      "---------------------------------------- \n",
      "\n",
      "================================================================================ \n",
      "\n",
      "11/01/2022 :\n",
      "\n",
      "Tweeted 506 times :  RT @pts The worst cars are named something like “Mercedes-Benz g575S” and cost $110 000 and you see four of them every day. The best cars are named something like “Daihatsu Buddywagon.” They cost $500 in Japan and are illegal anywhere else in the world.\n",
      "---------------------------------------- \n",
      "\n",
      "Tweeted 123 times :  RT @ScientistRebel1 After a protest in the luxury car showroom of BMW's headquarters in Munich  15 members of Scientist Rebellion have been taken into preventive custody.   To show them support and solidarity during their imprisonment  we are collecting letters to send to them in prison. https://t.co/IIiOywcpUv\n",
      "---------------------------------------- \n",
      "\n",
      "Tweeted 98 times :  RT @RayyLH44 RedBull has the best car they’ve ever built in 8 years.   Mercedes has the worst car that they’ve ever built in 8 years  Still  Mercedes is competing  giving fight and separating 2 RedBulls.  Never Ever Doubt Mercedes and Lewis Hamilton 🔥😏 We’re getting closer now. #TeamLH #F1 https://t.co/fXseDPus3G\n",
      "---------------------------------------- \n",
      "\n",
      "Tweeted 94 times :  RT @hudson_tamara Is there any chance one of the law enforcement agencies @TacomaPD @GigHarborPolice can follow up with the multiple address provided by @BMW @BMWUSA for my stolen car? Much appreciated.\n",
      "---------------------------------------- \n",
      "\n",
      "Tweeted 78 times :  RT @TheDemCoalition A rent-free apartment with Central Park views  a Mercedes Benz car lease for his wife  and furniture for his Florida home. “On top of all that  Donald Trump paid for Allen Weisselberg’s grandchildren’s school tuition ” said Hoffinger.   #TrumpCrimeFamily  https://t.co/UocZZW0bWX\n",
      "---------------------------------------- \n",
      "\n",
      "================================================================================ \n",
      "\n"
     ]
    }
   ],
   "source": [
    "days = list(df.TweetCreatedAt.value_counts().index)\n",
    "for day in sorted(days):\n",
    "    print(day, \":\\n\")\n",
    "    day_ = df[df.TweetCreatedAt == day]\n",
    "    for key, value in dict(day_.Text.value_counts()[:5]).items():\n",
    "        print(\"Tweeted\", value, \"times\", \": \", key)\n",
    "        print(\"-\" * 40 , \"\\n\")\n",
    "    print(\"=\" * 80, \"\\n\")"
   ]
  },
  {
   "cell_type": "markdown",
   "metadata": {},
   "source": [
    "**Over all**"
   ]
  },
  {
   "cell_type": "code",
   "execution_count": 9,
   "metadata": {},
   "outputs": [
    {
     "name": "stdout",
     "output_type": "stream",
     "text": [
      "Tweeted 1425 times :  RT @pts The worst cars are named something like “Mercedes-Benz g575S” and cost $110 000 and you see four of them every day. The best cars are named something like “Daihatsu Buddywagon.” They cost $500 in Japan and are illegal anywhere else in the world.\n",
      "************************************************************ \n",
      "\n",
      "Tweeted 878 times :  RT @ScientistRebel1 +++ BREAKING +++  13 members of Scientist Rebellion are currently glued to a car inside a BMW showroom in Munich  demanding the immediate decarbonization of the transport sector. #UniteAgainstClimateFailure (1/10) https://t.co/0QJYEqyfFP\n",
      "************************************************************ \n",
      "\n",
      "Tweeted 659 times :  RT @QasimKhanSuri How did police mistake the Toyota Land Cruiser  a large four-wheel-drive car  for the vehicle reported stolen - a Mercedes-Benz Sprinter  which is a delivery van?  Why did the police not try to demobilise the vehicle by shooting at the tyres? #ArshadSharif https://t.co/ruBY3wgdPu\n",
      "************************************************************ \n",
      "\n",
      "Tweeted 558 times :  RT @hudson_tamara Is there any chance one of the law enforcement agencies @TacomaPD @GigHarborPolice can follow up with the multiple address provided by @BMW @BMWUSA for my stolen car? Much appreciated.\n",
      "************************************************************ \n",
      "\n",
      "Tweeted 459 times :  RT @HamidMirPAK Important questions. How did police mistake the Toyota Land Cruiser a large four-wheel-drive car for the vehicle reported stolen - a Mercedes-Benz   which is a delivery van? Why did the police not try to demobilise the vehicle by shooting at the tyres? https://t.co/4Swft7xsZr\n",
      "************************************************************ \n",
      "\n"
     ]
    }
   ],
   "source": [
    "for key, value in dict(df.Text.value_counts()[:5]).items():\n",
    "    print(\"Tweeted\", value, \"times\", \": \", key)\n",
    "    print(\"*\" * 60 , \"\\n\")"
   ]
  },
  {
   "cell_type": "markdown",
   "metadata": {},
   "source": [
    "## Users with the most tweets"
   ]
  },
  {
   "cell_type": "code",
   "execution_count": 58,
   "metadata": {},
   "outputs": [
    {
     "data": {
      "text/plain": [
       "happy0shopping     343\n",
       "sagittarianzee     154\n",
       "USClassicAutos      74\n",
       "RamiroandSons       64\n",
       "UKClassicCars       47\n",
       "carsandbids         45\n",
       "GXTZgiEXc8rIZsK     42\n",
       "MyCarNewsOnlin1     41\n",
       "AmeenWheels         39\n",
       "ijerebi             35\n",
       "Name: UserName, dtype: int64"
      ]
     },
     "execution_count": 58,
     "metadata": {},
     "output_type": "execute_result"
    }
   ],
   "source": [
    "# top five users\n",
    "df.UserName.value_counts()[:10]"
   ]
  },
  {
   "cell_type": "code",
   "execution_count": 11,
   "metadata": {},
   "outputs": [
    {
     "name": "stdout",
     "output_type": "stream",
     "text": [
      "8532732 Motorcycle Tire Pressure Sensor TPMS For BMW K1600GT F700 F800 R1200 GS RT R RS S ST $12.80 click&gt &gt https://t.co/71OlPDcoTv #car #amazon #aliexpress #rt https://t.co/AZ9vBFX5uB \n",
      "\n",
      "************************************************************ \n",
      "\n",
      "MIB RCD360 PRO Carplay Radio NONAME NEW RCD330 Android Auto for VW Golf 5 6 Jetta MK5 MK6 Tiguan CC Polo Passat 6RD 035 187B $225.99 click&gt &gt https://t.co/ovc17I1tfu #car #amazon #aliexpress #rt https://t.co/CvuSb1Mj1b \n",
      "\n",
      "************************************************************ \n",
      "\n",
      "Carlinkit MINI CarPlay Box for Audi Mercedes Volvo Volkswagen etc Support Bluetooth Wireless Auto connection charging Siri IOS15 $54.60 click&gt &gt https://t.co/75HX9Eg43y #car #amazon #aliexpress #rt https://t.co/5uU1KD3bvC \n",
      "\n",
      "************************************************************ \n",
      "\n",
      "NEW RCD330 187B MIB Radio RCD360 PRO NONAME Android Auto Carplay For VW Golf 5 6 Jetta MK5 MK6 Tiguan CC Polo Passat 6RD035187B $225.79 click&gt &gt https://t.co/A29vBgMHBT #car #amazon #aliexpress #rt https://t.co/Z2dtoMKE1c \n",
      "\n",
      "************************************************************ \n",
      "\n",
      "Carlinkit CarPlay Mini Ai Box Andoroid 11 Wireless CarPlay Android Auto For Audi Bmw Mazda Toyota Netflix You_Tube 4G LTE 128G $96.03 click&gt &gt https://t.co/Yej6GBDpGu #car #amazon #aliexpress #rt https://t.co/4UJD1VHDjj \n",
      "\n",
      "************************************************************ \n",
      "\n"
     ]
    }
   ],
   "source": [
    "# user: happy0shopping\n",
    "for tweet in list(df[df.UserName == \"happy0shopping\"].Text)[:5]:\n",
    "    print(tweet, \"\\n\")\n",
    "    print(\"*\"*60, \"\\n\")"
   ]
  },
  {
   "cell_type": "markdown",
   "metadata": {},
   "source": [
    "Looks like a shop marketing car parts"
   ]
  },
  {
   "cell_type": "code",
   "execution_count": 12,
   "metadata": {},
   "outputs": [
    {
     "name": "stdout",
     "output_type": "stream",
     "text": [
      "https://t.co/kjRchDTzOV  - GM delays EV production ramp over battery supply  -  #cars #car #carsofinstagram #carporn #bmw #auto #carlifestyle #s #carphotography #photography #supercars #ford #jdm #carswithoutlimits #automotive #mercedes #audi... https://t.co/ys0oklhIeM \n",
      "\n",
      "************************************************************ \n",
      "\n",
      "https://t.co/pD41yS9wwn  - Verstappen breaks record with 2022 F1 Mexican Grand Prix win  -  #cars #car #carsofinstagram #carporn #bmw #auto #carlifestyle #s #carphotography #photography #supercars #ford #jdm #carswithoutlimits #automotive... https://t.co/QUo4Xce0bn \n",
      "\n",
      "************************************************************ \n",
      "\n",
      "https://t.co/59m0dz9adz  - The Nissan GT-R is back on sale for 2023  -  #cars #car #carsofinstagram #carporn #bmw #auto #carlifestyle #s #carphotography #photography #supercars #ford #jdm #carswithoutlimits #automotive #mercedes #audi... https://t.co/1cO8o11M7U \n",
      "\n",
      "************************************************************ \n",
      "\n",
      "https://t.co/5amkdZZsHS  - GM Ultium EV ramp  Leaf-powered pickup  fast-food fast-charging: Today’s Car News  -  #cars #car #carsofinstagram #carporn #bmw #auto #carlifestyle #s #carphotography #photography #supercars #ford #jdm... https://t.co/DxpRhwynyg \n",
      "\n",
      "************************************************************ \n",
      "\n",
      "https://t.co/h9W5GWR9Cd  - Police Escape Gone Wrong ? #shorts @trafficboy_kenny  -  #cars #car #carsofinstagram #carporn #bmw #auto #carlifestyle #s #carphotography #photography #supercars #ford #jdm #carswithoutlimits #automotive #mercedes... https://t.co/1bbRmJQAQr \n",
      "\n",
      "************************************************************ \n",
      "\n"
     ]
    }
   ],
   "source": [
    "# user: sagittarianzee\n",
    "for tweet in list(df[df.UserName == \"sagittarianzee\"].Text)[:5]:\n",
    "    print(tweet, \"\\n\")\n",
    "    print(\"*\"*60, \"\\n\")"
   ]
  },
  {
   "cell_type": "code",
   "execution_count": 13,
   "metadata": {},
   "outputs": [
    {
     "name": "stdout",
     "output_type": "stream",
     "text": [
      "For Sale: 1968 Volkswagen Beetle - Classic https://t.co/wuaIa2KTow &lt --More #classiccar #classiccars https://t.co/1FodevezV2 \n",
      "\n",
      "************************************************************ \n",
      "\n",
      "For Sale: 1969 Volkswagen Beetle - Classic https://t.co/euztq6bhjt &lt --More #classiccar #classiccars https://t.co/5a5cj1Ci1r \n",
      "\n",
      "************************************************************ \n",
      "\n",
      "For Sale: 1972 Volkswagen Beetle - Classic https://t.co/LQNl2jCGTf &lt --More #classiccar #classiccars https://t.co/NZ9JRKMYbU \n",
      "\n",
      "************************************************************ \n",
      "\n",
      "For Sale: 2013 Volkswagen Beetle - Classic Turbo https://t.co/pVOT2UGj6n &lt --More #classiccar #classiccars https://t.co/w3aUCFie09 \n",
      "\n",
      "************************************************************ \n",
      "\n",
      "For Sale: 1968 Volkswagen Beetle - Classic Cabriolet https://t.co/GRgcsj7Ubc &lt --More #classiccar #classiccars https://t.co/5eH1xq3nuA \n",
      "\n",
      "************************************************************ \n",
      "\n"
     ]
    }
   ],
   "source": [
    "# user: USClassicAutos\n",
    "for tweet in list(df[df.UserName == \"USClassicAutos\"].Text)[:5]:\n",
    "    print(tweet, \"\\n\")\n",
    "    print(\"*\"*60, \"\\n\")"
   ]
  },
  {
   "cell_type": "markdown",
   "metadata": {},
   "source": [
    "Also looks like some kind of shop"
   ]
  },
  {
   "cell_type": "code",
   "execution_count": 14,
   "metadata": {},
   "outputs": [
    {
     "name": "stdout",
     "output_type": "stream",
     "text": [
      "RT @RdmThingytanK 🔴 LIVE 📡 CLASSIC car repair: '91 volvo 240 / '03 vw golf mk4 / ...   🚗🧰🛠️ https://t.co/PZngIoM2Kl  #DIY #classiccar #cars #twitch  #twitchstreaming #twitchstreamer #live #randomthingytank https://t.co/AVehRUNXmy \n",
      "\n",
      "************************************************************ \n",
      "\n",
      "RT @UKClassicCars For Sale: Mercedes W124 E250 Diesel https://t.co/aQx9pFerTX &lt --More #classiccar #classiccars https://t.co/zDgxiBmk7D \n",
      "\n",
      "************************************************************ \n",
      "\n",
      "RT @UKClassicCars For Sale: volkswagen beetle 1300 1971 unfinished project lovely car hard work done https://t.co/edyAZyoSEF &lt --More #classiccar #classiccars https://t.co/s6txitfp0I \n",
      "\n",
      "************************************************************ \n",
      "\n",
      "RT @UKClassicCars For Sale: Vw beetle project https://t.co/iQQlEy7xPk &lt --More #classiccar #classiccars https://t.co/gaSHDHNR12 \n",
      "\n",
      "************************************************************ \n",
      "\n",
      "RT @UKClassicCars For Sale: volkswagen beetle automatic https://t.co/P6IHLHxslL &lt --More #classiccar #classiccars https://t.co/5oB6ybd2LO \n",
      "\n",
      "************************************************************ \n",
      "\n"
     ]
    }
   ],
   "source": [
    "# user: RamiroandSons\n",
    "for tweet in list(df[df.UserName == \"RamiroandSons\"].Text)[:5]:\n",
    "    print(tweet, \"\\n\")\n",
    "    print(\"*\"*60, \"\\n\")"
   ]
  },
  {
   "cell_type": "markdown",
   "metadata": {},
   "source": [
    "Looks like someone selling calssic cars (link:  https://t.co/edyAZyoSEF)"
   ]
  },
  {
   "cell_type": "code",
   "execution_count": 15,
   "metadata": {},
   "outputs": [
    {
     "name": "stdout",
     "output_type": "stream",
     "text": [
      "For Sale: Mercedes W124 E250 Diesel https://t.co/aQx9pFerTX &lt --More #classiccar #classiccars https://t.co/zDgxiBmk7D \n",
      "\n",
      "************************************************************ \n",
      "\n",
      "For Sale: volkswagen beetle 1300 1971 unfinished project lovely car hard work done https://t.co/edyAZyoSEF &lt --More #classiccar #classiccars https://t.co/s6txitfp0I \n",
      "\n",
      "************************************************************ \n",
      "\n",
      "For Sale: Vw beetle project https://t.co/iQQlEy7xPk &lt --More #classiccar #classiccars https://t.co/gaSHDHNR12 \n",
      "\n",
      "************************************************************ \n",
      "\n",
      "For Sale: volkswagen beetle automatic https://t.co/P6IHLHxslL &lt --More #classiccar #classiccars https://t.co/5oB6ybd2LO \n",
      "\n",
      "************************************************************ \n",
      "\n",
      "For Sale: VW Golf mk1 Convertible Clipper classic  amazing clean condition  mint interior https://t.co/mKLvX1wDfl &lt --More #classiccar #classiccars https://t.co/7pA79rR5ff \n",
      "\n",
      "************************************************************ \n",
      "\n"
     ]
    }
   ],
   "source": [
    "# user: UKClassicCars\n",
    "for tweet in (df[df.UserName == \"UKClassicCars\"].Text)[:5]:\n",
    "    print(tweet, \"\\n\")\n",
    "    print(\"*\"*60, \"\\n\")"
   ]
  },
  {
   "cell_type": "markdown",
   "metadata": {},
   "source": [
    "The last two users seem to have common tweets"
   ]
  },
  {
   "cell_type": "markdown",
   "metadata": {},
   "source": [
    "### Analysing the Text\n",
    "\n",
    "**Things to check:**\n",
    "* 1. Identify marketing tweets. From the seen above, we can potentially identify marketing tweets base on the number of links in the tweet.\n",
    "* 2. Check the number of tweets that mention our brands"
   ]
  },
  {
   "cell_type": "markdown",
   "metadata": {},
   "source": [
    "**Step 1**"
   ]
  },
  {
   "cell_type": "code",
   "execution_count": 16,
   "metadata": {},
   "outputs": [],
   "source": [
    "def filter_tweets(text):\n",
    "    '''\n",
    "    Docstring: \n",
    "        - lower case every tweet\n",
    "        - filter out tweets with two links\n",
    "    '''\n",
    "    text_lower = text.lower()\n",
    "    count_http = text_lower.count(\"https://\")\n",
    "    if count_http < 2:\n",
    "        return text_lower\n",
    "    else:\n",
    "        return \"marketing\""
   ]
  },
  {
   "cell_type": "code",
   "execution_count": 17,
   "metadata": {},
   "outputs": [
    {
     "data": {
      "application/vnd.jupyter.widget-view+json": {
       "model_id": "80b82632b5e349c6998a72355e94c556",
       "version_major": 2,
       "version_minor": 0
      },
      "text/plain": [
       "HBox(children=(HTML(value='Pandas Apply'), FloatProgress(value=0.0, max=20622.0), HTML(value='')))"
      ]
     },
     "metadata": {},
     "output_type": "display_data"
    },
    {
     "name": "stdout",
     "output_type": "stream",
     "text": [
      "\n"
     ]
    }
   ],
   "source": [
    "# making a new column with the filtered text\n",
    "df[\"Text_Filtered\"] = df.Text.swifter.apply(filter_tweets)"
   ]
  },
  {
   "cell_type": "code",
   "execution_count": 18,
   "metadata": {},
   "outputs": [
    {
     "name": "stdout",
     "output_type": "stream",
     "text": [
      "RT @ListersMercedes Our growing Mercedes-EQ collection of fully-electric cars offers impressive performance and range  zero local emissions and near-silent driving. Explore the options and see which model best suits your lifestyle at https://t.co/RxoKiPw824. https://t.co/5Dd3ivnR3B \n",
      "\n",
      "************************************************************ \n",
      "\n",
      "CarlinKit 4.0 Wireless Android Auto CarPlay Adapter CarPlay Dongle Auto Connect for Volkswagen Toyota Honda Audi Benz Mazd $96.31 click&gt &gt https://t.co/1gRV7azjpq #car #amazon #aliexpress #rt https://t.co/eFXCZWigQV \n",
      "\n",
      "************************************************************ \n",
      "\n",
      "CarlinKit 4.0 Wireless Android Auto CarPlay Adapter Apple CarPlay Dongle Auto Connect For VW Toyota Honda Audi Benz Mazda Fiat $67.19 click&gt &gt https://t.co/y8sLsi9ywR #car #amazon #aliexpress #rt https://t.co/A4fqvs4W9Y \n",
      "\n",
      "************************************************************ \n",
      "\n",
      "2022 Wireless CarPlay Adapter U2W CarlinKit Wireless CarPlay Dongle for Audi/Volkswagen/Volvo Cars with Original Factory CarP PZD8URK  https://t.co/MrkgL5E7Rb https://t.co/q3c31Dp7o0 \n",
      "\n",
      "************************************************************ \n",
      "\n",
      "CarlinKit 4.0 3.0 Apple CarPlay Wireless Dongle Activator For Audi Proshe Benz VW Volvo Toyota IOS 14 Plug And Play MP4 MP5 Play $60.80 click&gt &gt https://t.co/bdBeZFfbHS #car #amazon #aliexpress #rt https://t.co/S3xmmXxwJH \n",
      "\n",
      "************************************************************ \n",
      "\n",
      "VW Offloads German Car-Sharing Business for EV Sales Boost Volkswagen AG is selling ... https://t.co/eXcpT70Prh #offloads https://t.co/tAfGQDR76W \n",
      "\n",
      "************************************************************ \n",
      "\n",
      "The South Bay Volkswagen Service Department is your place to go for quality car service and repairs. Contact us at (619) 336-4020 or visit our website and book your next appointment today: https://t.co/ZmnFLqcWFd https://t.co/v0wvJekw55 \n",
      "\n",
      "************************************************************ \n",
      "\n",
      "RT @the_autopian In case you missed 'em: catch up with these stories here 👍 https://t.co/4IyYEBijIZ https://t.co/AadhhjStTH \n",
      "\n",
      "************************************************************ \n",
      "\n",
      "BMW X5 M (E70)  2010〡add-on https://t.co/KoxJSKoho1 https://t.co/sUFdi0Z1pS \n",
      "\n",
      "************************************************************ \n",
      "\n",
      "BMW M3 Coupe (E36) 1995〡add-on https://t.co/MPwE8b9weQ https://t.co/NLbFZqe4X6 \n",
      "\n",
      "************************************************************ \n",
      "\n"
     ]
    }
   ],
   "source": [
    "# Checking how it worked on 10 samples that belong to a maketing tweet. \n",
    "for i in df[df.Text_Filtered == \"marketing\"].iloc[50:60].Text:\n",
    "    print(i, \"\\n\")\n",
    "    print(\"*\"*60, \"\\n\")"
   ]
  },
  {
   "cell_type": "code",
   "execution_count": 29,
   "metadata": {},
   "outputs": [
    {
     "name": "stdout",
     "output_type": "stream",
     "text": [
      "Total length of the data: 20622\n",
      "\n",
      "Number of tweets containing two links: 2725 (15.23%)\n"
     ]
    }
   ],
   "source": [
    "print(f\"Total length of the data: {len(df)}\\n\")\n",
    "marketing_len = (len(df[df.Text_Filtered != 'marketing']) - len(df)) / len(df[df.Text_Filtered != 'marketing']) * 100\n",
    "print(f\"Number of tweets containing two links: {len(df[df.Text_Filtered == 'marketing'])} ({round(abs(marketing_len), 2)}%)\")"
   ]
  },
  {
   "cell_type": "markdown",
   "metadata": {},
   "source": [
    "**Step 2**\n",
    "\n",
    "To do:\n",
    "* remove all except alphabetical characters from the tweet\n",
    "* identify the brand(s) mentioned in the text"
   ]
  },
  {
   "cell_type": "code",
   "execution_count": 46,
   "metadata": {},
   "outputs": [
    {
     "data": {
      "application/vnd.jupyter.widget-view+json": {
       "model_id": "1839b3b98905410e9b3212ceb2ad8682",
       "version_major": 2,
       "version_minor": 0
      },
      "text/plain": [
       "HBox(children=(HTML(value='Pandas Apply'), FloatProgress(value=0.0, max=20622.0), HTML(value='')))"
      ]
     },
     "metadata": {},
     "output_type": "display_data"
    },
    {
     "name": "stdout",
     "output_type": "stream",
     "text": [
      "\n"
     ]
    }
   ],
   "source": [
    "def clean_text(text):\n",
    "    '''\n",
    "    Docstring: \n",
    "        1. removing the link\n",
    "        2. removing all except alphabetical characters\n",
    "        3. tokkanization\n",
    "        4. removing stop words\n",
    "    '''\n",
    "    # 1\n",
    "    text_ = re.sub('http[s]?://\\S+', '', text)\n",
    "    \n",
    "    # 2\n",
    "    text_alpha = re.sub(r\"[^a-zA-Z]\", \" \", text_)\n",
    "    \n",
    "    # 3\n",
    "    text_tokk = word_tokenize(text_alpha)\n",
    "    \n",
    "    # 4\n",
    "    text_clean = [word.lower() for word in text_tokk if word not in stopwords.words(\"english\")]\n",
    "    \n",
    "    return text_clean\n",
    "\n",
    "# creating a column with the clean text\n",
    "df[\"Text_Clean\"] = df.Text.swifter.apply(clean_text)"
   ]
  },
  {
   "cell_type": "code",
   "execution_count": 48,
   "metadata": {},
   "outputs": [
    {
     "data": {
      "application/vnd.jupyter.widget-view+json": {
       "model_id": "bab7d9e2449746a9ba11e0b5a303c4a5",
       "version_major": 2,
       "version_minor": 0
      },
      "text/plain": [
       "HBox(children=(HTML(value='Pandas Apply'), FloatProgress(value=0.0, max=20622.0), HTML(value='')))"
      ]
     },
     "metadata": {},
     "output_type": "display_data"
    },
    {
     "name": "stdout",
     "output_type": "stream",
     "text": [
      "\n"
     ]
    }
   ],
   "source": [
    "# checking brands mentioned in each tweet\n",
    "\n",
    "def check_brand(text):\n",
    "    '''\n",
    "    Docstring:\n",
    "        1. checking if any brand name from the list above is present in the tweet\n",
    "    '''\n",
    "    all_brands = [\"bmw\", \"mercedes\", \"vw\", \"volkswagen\"]\n",
    "    \n",
    "    result = [brand for brand in all_brands if brand in text]\n",
    "    if len(result) == 0:\n",
    "        return \"No brand(s)\"\n",
    "    else:\n",
    "        return \" \".join(sorted(result))\n",
    "\n",
    "# creating a column with the mentioned brands for each tweet\n",
    "df[\"Mentioned_Brand\"] = df.Text_Clean.swifter.apply(check_brand)"
   ]
  },
  {
   "cell_type": "code",
   "execution_count": 49,
   "metadata": {},
   "outputs": [
    {
     "data": {
      "text/plain": [
       "mercedes                   10577\n",
       "bmw                         5747\n",
       "vw                          1514\n",
       "volkswagen                  1265\n",
       "No brand(s)                  792\n",
       "bmw mercedes                 256\n",
       "volkswagen vw                176\n",
       "bmw volkswagen               116\n",
       "bmw mercedes volkswagen       56\n",
       "bmw vw                        55\n",
       "mercedes volkswagen           31\n",
       "bmw mercedes vw               21\n",
       "mercedes vw                   12\n",
       "bmw volkswagen vw              4\n",
       "Name: Mentioned_Brand, dtype: int64"
      ]
     },
     "execution_count": 49,
     "metadata": {},
     "output_type": "execute_result"
    }
   ],
   "source": [
    "df.Mentioned_Brand.value_counts()"
   ]
  },
  {
   "cell_type": "code",
   "execution_count": 50,
   "metadata": {},
   "outputs": [],
   "source": [
    "# Cleaning up the brand names\n",
    "df.Mentioned_Brand = df.Mentioned_Brand.replace(\"vw\", \"volkswagen\")\n",
    "df.Mentioned_Brand = df.Mentioned_Brand.replace(\"volkswagen vw\", \"volkswagen\")\n",
    "df.Mentioned_Brand = df.Mentioned_Brand.replace(\"bmw vw\", \"bmw volkswagen\")\n",
    "df.Mentioned_Brand = df.Mentioned_Brand.replace(\"bmw volkswagen vw\", \"bmw volkswagen\")\n",
    "df.Mentioned_Brand = df.Mentioned_Brand.replace(\"bmw mercedes vw\", \"bmw mercedes volkswagen\")\n",
    "df.Mentioned_Brand = df.Mentioned_Brand.replace(\"mercedes vw\", \"mercedes volkswagen\")"
   ]
  },
  {
   "cell_type": "code",
   "execution_count": 51,
   "metadata": {},
   "outputs": [
    {
     "data": {
      "text/plain": [
       "mercedes                   9914\n",
       "bmw                        4825\n",
       "volkswagen                 2142\n",
       "No brand(s)                 599\n",
       "bmw volkswagen              169\n",
       "bmw mercedes                158\n",
       "bmw mercedes volkswagen      70\n",
       "mercedes volkswagen          20\n",
       "Name: Mentioned_Brand, dtype: int64"
      ]
     },
     "execution_count": 51,
     "metadata": {},
     "output_type": "execute_result"
    }
   ],
   "source": [
    "df[df.Text_Filtered != \"marketing\"].Mentioned_Brand.value_counts()"
   ]
  },
  {
   "cell_type": "code",
   "execution_count": 52,
   "metadata": {},
   "outputs": [
    {
     "data": {
      "image/png": "[encoded data removed]",
      "text/plain": [
       "<Figure size 720x576 with 1 Axes>"
      ]
     },
     "metadata": {},
     "output_type": "display_data"
    }
   ],
   "source": [
    "annot_place_1 = 40\n",
    "annote_place_2 = -20\n",
    "figure, ax = plt.subplots(figsize = (10, 8))\n",
    "ax = sns.countplot(data = df[df.Text_Filtered != \"marketing\"], y = \"Mentioned_Brand\", palette = \"dark:salmon_r\", \n",
    "                   order = df[df.Text_Filtered != \"marketing\"].Mentioned_Brand.value_counts().index)\n",
    "ax.set_xlim(0, 12000)\n",
    "ax.set(ylabel = None, xlabel = None)\n",
    "plt.title(\"Brand mention(s) Count (without the marketing tweets)\")\n",
    "sns.set(font_scale = 1.3)\n",
    "\n",
    "for p in ax.patches:\n",
    "    ax.annotate(int(p.get_width()),((p.get_x() + p.get_width()) , p.get_y()), xytext=(annot_place_1, annote_place_2),\n",
    "                fontsize = 15,color = \"#5257B9\", textcoords = 'offset points', horizontalalignment = 'right')\n",
    "        \n",
    "plt.show();"
   ]
  },
  {
   "cell_type": "code",
   "execution_count": 53,
   "metadata": {},
   "outputs": [
    {
     "name": "stdout",
     "output_type": "stream",
     "text": [
      "\n",
      " The car drove over the pavement before crashing into the restaurant  https://t.co/qvpTvUDtyg\n",
      "************************************************************\n",
      "\n",
      " RT @Johnrashton47 Knossington hunt: Woman arrested after anti-hunting activist is hit by car in Leicester   Evening Standard https://t.co/BrgOhtBXJk\n",
      "************************************************************\n",
      "\n",
      " PSA from @BobKronbauer for @BCFerries. Love it.   https://t.co/QW3TZZccNZ\n",
      "************************************************************\n",
      "\n",
      " RT @MercedesBenzUK Take a mountain drive in comfort and style with the CLA Coupé. The sporty design and wide track makes it stand out and also improves the dynamics and stability.  https://t.co/BTLn6c0cSs UK spec may vary. #MBPhotoCredit: Ronja Ramminger with @nari_da (IG) #CLA #MercedesBenzUK https://t.co/TSoE5BdIyh\n",
      "************************************************************\n",
      "\n",
      " RT @MercedesBenzUK The S-Class  not afraid of the limelight.  https://t.co/OvFLpBAn4F UK spec may vary. #SClass #MercedesBenzUK https://t.co/vtvxnzNJxu\n",
      "************************************************************\n"
     ]
    }
   ],
   "source": [
    "# checking a few rows that are missing the brand name\n",
    "for tweet in list(df[df.Mentioned_Brand == \"No brand(s)\"].Text[:5]):\n",
    "    print(\"\\n\", tweet)\n",
    "    print\n",
    "    print(\"*\"*60)"
   ]
  },
  {
   "cell_type": "code",
   "execution_count": 54,
   "metadata": {},
   "outputs": [
    {
     "data": {
      "image/png": "[encoded data removed]",
      "text/plain": [
       "<Figure size 1080x360 with 2 Axes>"
      ]
     },
     "metadata": {},
     "output_type": "display_data"
    }
   ],
   "source": [
    "sns.set(font_scale = 1.5)\n",
    "\n",
    "figure, ax = plt.subplots(figsize = (15, 5))\n",
    "ax = sns.heatmap(pd.crosstab(df.Mentioned_Brand, df.TweetCreatedAt, margins = False), annot = True, \n",
    "                 cmap = \"YlOrRd\", fmt = \"g\")\n",
    "ax.set(ylabel = None, xlabel = None)\n",
    "plt.title(\"Count Plot of Brand Mentioning by Day\");"
   ]
  },
  {
   "cell_type": "code",
   "execution_count": 55,
   "metadata": {},
   "outputs": [
    {
     "name": "stdout",
     "output_type": "stream",
     "text": [
      "8 features are integer type\n",
      "0 features are float type\n",
      "12 features are object type\n",
      "20 Total features\n",
      "2447 Observations\n"
     ]
    },
    {
     "data": {
      "text/html": [
       "<div>\n",
       "<style scoped>\n",
       "    .dataframe tbody tr th:only-of-type {\n",
       "        vertical-align: middle;\n",
       "    }\n",
       "\n",
       "    .dataframe tbody tr th {\n",
       "        vertical-align: top;\n",
       "    }\n",
       "\n",
       "    .dataframe thead th {\n",
       "        text-align: right;\n",
       "    }\n",
       "</style>\n",
       "<table border=\"1\" class=\"dataframe\">\n",
       "  <thead>\n",
       "    <tr style=\"text-align: right;\">\n",
       "      <th></th>\n",
       "      <th>Unique Values</th>\n",
       "      <th>Type</th>\n",
       "      <th>Missing_num</th>\n",
       "      <th>Missing_%</th>\n",
       "    </tr>\n",
       "  </thead>\n",
       "  <tbody>\n",
       "    <tr>\n",
       "      <th>Text</th>\n",
       "      <td>869</td>\n",
       "      <td>Obj</td>\n",
       "      <td>0</td>\n",
       "      <td>0.0%</td>\n",
       "    </tr>\n",
       "    <tr>\n",
       "      <th>TweetCreatedAt</th>\n",
       "      <td>1</td>\n",
       "      <td>Obj</td>\n",
       "      <td>0</td>\n",
       "      <td>0.0%</td>\n",
       "    </tr>\n",
       "    <tr>\n",
       "      <th>RetweetCount</th>\n",
       "      <td>47</td>\n",
       "      <td>int</td>\n",
       "      <td>0</td>\n",
       "      <td>0.0%</td>\n",
       "    </tr>\n",
       "    <tr>\n",
       "      <th>LikeCount</th>\n",
       "      <td>62</td>\n",
       "      <td>int</td>\n",
       "      <td>0</td>\n",
       "      <td>0.0%</td>\n",
       "    </tr>\n",
       "    <tr>\n",
       "      <th>ReplyCount</th>\n",
       "      <td>20</td>\n",
       "      <td>int</td>\n",
       "      <td>0</td>\n",
       "      <td>0.0%</td>\n",
       "    </tr>\n",
       "    <tr>\n",
       "      <th>AuthorID</th>\n",
       "      <td>2198</td>\n",
       "      <td>int</td>\n",
       "      <td>0</td>\n",
       "      <td>0.0%</td>\n",
       "    </tr>\n",
       "    <tr>\n",
       "      <th>ScreenName</th>\n",
       "      <td>2172</td>\n",
       "      <td>Obj</td>\n",
       "      <td>0</td>\n",
       "      <td>0.0%</td>\n",
       "    </tr>\n",
       "    <tr>\n",
       "      <th>UserName</th>\n",
       "      <td>2198</td>\n",
       "      <td>Obj</td>\n",
       "      <td>0</td>\n",
       "      <td>0.0%</td>\n",
       "    </tr>\n",
       "    <tr>\n",
       "      <th>UserProfile</th>\n",
       "      <td>1638</td>\n",
       "      <td>Obj</td>\n",
       "      <td>603</td>\n",
       "      <td>24.642%</td>\n",
       "    </tr>\n",
       "    <tr>\n",
       "      <th>Following</th>\n",
       "      <td>1064</td>\n",
       "      <td>int</td>\n",
       "      <td>0</td>\n",
       "      <td>0.0%</td>\n",
       "    </tr>\n",
       "    <tr>\n",
       "      <th>Followers</th>\n",
       "      <td>967</td>\n",
       "      <td>int</td>\n",
       "      <td>0</td>\n",
       "      <td>0.0%</td>\n",
       "    </tr>\n",
       "    <tr>\n",
       "      <th>NumberTweets</th>\n",
       "      <td>2084</td>\n",
       "      <td>int</td>\n",
       "      <td>0</td>\n",
       "      <td>0.0%</td>\n",
       "    </tr>\n",
       "    <tr>\n",
       "      <th>UserLocation</th>\n",
       "      <td>819</td>\n",
       "      <td>Obj</td>\n",
       "      <td>1055</td>\n",
       "      <td>43.114%</td>\n",
       "    </tr>\n",
       "    <tr>\n",
       "      <th>Kind</th>\n",
       "      <td>3</td>\n",
       "      <td>Obj</td>\n",
       "      <td>313</td>\n",
       "      <td>12.791%</td>\n",
       "    </tr>\n",
       "    <tr>\n",
       "      <th>ReplyTo</th>\n",
       "      <td>295</td>\n",
       "      <td>Obj</td>\n",
       "      <td>2049</td>\n",
       "      <td>83.735%</td>\n",
       "    </tr>\n",
       "    <tr>\n",
       "      <th>RetweetedAuthor</th>\n",
       "      <td>104</td>\n",
       "      <td>Obj</td>\n",
       "      <td>740</td>\n",
       "      <td>30.241%</td>\n",
       "    </tr>\n",
       "    <tr>\n",
       "      <th>TweetID</th>\n",
       "      <td>2447</td>\n",
       "      <td>int</td>\n",
       "      <td>0</td>\n",
       "      <td>0.0%</td>\n",
       "    </tr>\n",
       "    <tr>\n",
       "      <th>Text_Filtered</th>\n",
       "      <td>788</td>\n",
       "      <td>Obj</td>\n",
       "      <td>0</td>\n",
       "      <td>0.0%</td>\n",
       "    </tr>\n",
       "    <tr>\n",
       "      <th>Text_Clean</th>\n",
       "      <td>849</td>\n",
       "      <td>Obj</td>\n",
       "      <td>0</td>\n",
       "      <td>0.0%</td>\n",
       "    </tr>\n",
       "    <tr>\n",
       "      <th>Mentioned_Brand</th>\n",
       "      <td>1</td>\n",
       "      <td>Obj</td>\n",
       "      <td>0</td>\n",
       "      <td>0.0%</td>\n",
       "    </tr>\n",
       "  </tbody>\n",
       "</table>\n",
       "</div>"
      ],
      "text/plain": [
       "                Unique Values Type Missing_num Missing_%\n",
       "Text                      869  Obj           0      0.0%\n",
       "TweetCreatedAt              1  Obj           0      0.0%\n",
       "RetweetCount               47  int           0      0.0%\n",
       "LikeCount                  62  int           0      0.0%\n",
       "ReplyCount                 20  int           0      0.0%\n",
       "AuthorID                 2198  int           0      0.0%\n",
       "ScreenName               2172  Obj           0      0.0%\n",
       "UserName                 2198  Obj           0      0.0%\n",
       "UserProfile              1638  Obj         603   24.642%\n",
       "Following                1064  int           0      0.0%\n",
       "Followers                 967  int           0      0.0%\n",
       "NumberTweets             2084  int           0      0.0%\n",
       "UserLocation              819  Obj        1055   43.114%\n",
       "Kind                        3  Obj         313   12.791%\n",
       "ReplyTo                   295  Obj        2049   83.735%\n",
       "RetweetedAuthor           104  Obj         740   30.241%\n",
       "TweetID                  2447  int           0      0.0%\n",
       "Text_Filtered             788  Obj           0      0.0%\n",
       "Text_Clean                849  Obj           0      0.0%\n",
       "Mentioned_Brand             1  Obj           0      0.0%"
      ]
     },
     "execution_count": 55,
     "metadata": {},
     "output_type": "execute_result"
    }
   ],
   "source": [
    "## Looking at the `10/29/2022` and `mercedes`\n",
    "mercedes_29 = df[(df.Mentioned_Brand == \"mercedes\") & (df.TweetCreatedAt == \"10/29/2022\")]\n",
    "basic_info(mercedes_29)"
   ]
  },
  {
   "cell_type": "code",
   "execution_count": 57,
   "metadata": {},
   "outputs": [
    {
     "name": "stdout",
     "output_type": "stream",
     "text": [
      "[604 285 246 106  69] \n",
      "\n",
      "Filtered text: \n",
      " rt @qasimkhansuri how did police mistake the toyota land cruiser  a large four-wheel-drive car  for the vehicle reported stolen - a mercedes-benz sprinter  which is a delivery van?  why did the police not try to demobilise the vehicle by shooting at the tyres? #arshadsharif https://t.co/ruby3wgdpu \n",
      "\n",
      "Cleaned text: \n",
      " ['rt', 'qasimkhansuri', 'how', 'police', 'mistake', 'toyota', 'land', 'cruiser', 'large', 'four', 'wheel', 'drive', 'car', 'vehicle', 'reported', 'stolen', 'mercedes', 'benz', 'sprinter', 'delivery', 'van', 'why', 'police', 'try', 'demobilise', 'vehicle', 'shooting', 'tyres', 'arshadsharif'] \n",
      "\n",
      "************************************************************ \n",
      "\n",
      "Filtered text: \n",
      " rt @hamidmirpak important questions. how did police mistake the toyota land cruiser a large four-wheel-drive car for the vehicle reported stolen - a mercedes-benz   which is a delivery van? why did the police not try to demobilise the vehicle by shooting at the tyres? https://t.co/4swft7xszr \n",
      "\n",
      "Cleaned text: \n",
      " ['rt', 'hamidmirpak', 'important', 'questions', 'how', 'police', 'mistake', 'toyota', 'land', 'cruiser', 'large', 'four', 'wheel', 'drive', 'car', 'vehicle', 'reported', 'stolen', 'mercedes', 'benz', 'delivery', 'van', 'why', 'police', 'try', 'demobilise', 'vehicle', 'shooting', 'tyres'] \n",
      "\n",
      "************************************************************ \n",
      "\n",
      "Filtered text: \n",
      " rt @wydccalamity maturing means you understand that mercedes makes the best cars \n",
      "\n",
      "Cleaned text: \n",
      " ['rt', 'wydccalamity', 'maturing', 'means', 'understand', 'mercedes', 'makes', 'best', 'cars'] \n",
      "\n",
      "************************************************************ \n",
      "\n",
      "Filtered text: \n",
      " marketing \n",
      "\n",
      "Cleaned text: \n",
      " ['rt', 'drawingsbyaaron', 'find', 'amazing', 'worst', 'car', 'mercedes', 'designed', 'eight', 'years', 'still', 'fighting', 'best', 'ferrari', 'eight', 'years', 'f'] \n",
      "\n",
      "************************************************************ \n",
      "\n",
      "Filtered text: \n",
      " rt @drawingsbyaaron i find it amazing how the worst car mercedes have designed in eight years is still fighting the best ferrari in eight years #f1 \n",
      "\n",
      "Cleaned text: \n",
      " ['rt', 'dubs', 'massive', 'dub', 'mercedes', 'employees', 'bringing', 'car', 'would', 'never', 'imagined', 'position', 'saw', 'beginning', 'season'] \n",
      "\n",
      "************************************************************ \n",
      "\n"
     ]
    }
   ],
   "source": [
    "# checking the 5 most tweeted tweeets for mercedes on the 29th\n",
    "top_5_filtered = list(mercedes_29.Text_Filtered.value_counts().index)\n",
    "top_5_clean = list(mercedes_29.Text_Clean.value_counts().index)\n",
    "print(mercedes_29.Text_Filtered.value_counts()[:5].values, \"\\n\")\n",
    "\n",
    "for i in range(5):\n",
    "    print(\"Filtered text: \\n\", top_5_filtered[i], \"\\n\")\n",
    "    print(\"Cleaned text: \\n\", top_5_clean[i], \"\\n\")\n",
    "    print(\"*\"*60, \"\\n\")"
   ]
  }
 ],
 "metadata": {
  "kernelspec": {
   "display_name": "Python 3",
   "language": "python",
   "name": "python3"
  },
  "language_info": {
   "codemirror_mode": {
    "name": "ipython",
    "version": 3
   },
   "file_extension": ".py",
   "mimetype": "text/x-python",
   "name": "python",
   "nbconvert_exporter": "python",
   "pygments_lexer": "ipython3",
   "version": "3.8.5"
  }
 },
 "nbformat": 4,
 "nbformat_minor": 4
}
