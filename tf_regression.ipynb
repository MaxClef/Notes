{
 "cells": [
  {
   "cell_type": "markdown",
   "metadata": {},
   "source": [
    "# Building an Regression MPL Using the Sequential API\n",
    "\n",
    "### Claifornia Housing problem from sklearn (it containes only numeric features without missing values)"
   ]
  },
  {
   "cell_type": "code",
   "execution_count": null,
   "metadata": {},
   "outputs": [],
   "source": []
  },
  {
   "cell_type": "code",
   "execution_count": null,
   "metadata": {},
   "outputs": [],
   "source": []
  },
  {
   "cell_type": "code",
   "execution_count": 22,
   "metadata": {},
   "outputs": [],
   "source": [
    "import os\n",
    "import sys\n",
    "\n",
    "#import libraries\n",
    "import numpy as np\n",
    "import pandas as pd\n",
    "import matplotlib.pyplot as plt\n",
    "import scipy as sp\n",
    "import tensorflow as tf\n",
    "from tensorflow import keras\n",
    "\n",
    "from sklearn.datasets import fetch_california_housing\n",
    "from sklearn.model_selection import train_test_split\n",
    "from sklearn.preprocessing import StandardScaler\n",
    "\n",
    "#for importing images\n",
    "from IPython.display import Image\n",
    "\n",
    "np.random.seed(42)\n",
    "tf.random.set_seed(42)\n",
    "%matplotlib inline"
   ]
  },
  {
   "cell_type": "code",
   "execution_count": 23,
   "metadata": {},
   "outputs": [],
   "source": [
    "# getting the data\n",
    "housing = fetch_california_housing()"
   ]
  },
  {
   "cell_type": "code",
   "execution_count": 24,
   "metadata": {},
   "outputs": [
    {
     "data": {
      "text/plain": [
       "((11610, 8), (3870, 8), (5160, 8))"
      ]
     },
     "execution_count": 24,
     "metadata": {},
     "output_type": "execute_result"
    }
   ],
   "source": [
    "np.random.seed(42)\n",
    "\n",
    "# split into train/test set\n",
    "x_train_full, x_test, y_train_full, y_test = train_test_split(housing.data, housing.target)\n",
    "\n",
    "# split the train set into train/validation set\n",
    "x_train, x_valid, y_train, y_valid = train_test_split(x_train_full, y_train_full)\n",
    "\n",
    "# scale the data\n",
    "scalar = StandardScaler()\n",
    "x_train = scalar.fit_transform(x_train)\n",
    "x_valid = scalar.transform(x_valid)\n",
    "x_test = scalar.transform(x_test)\n",
    "\n",
    "# check the shapes\n",
    "x_train.shape, x_valid.shape, x_test.shape"
   ]
  },
  {
   "cell_type": "code",
   "execution_count": 57,
   "metadata": {},
   "outputs": [
    {
     "name": "stderr",
     "output_type": "stream",
     "text": [
      "C:\\Users\\mkcle\\anaconda3\\lib\\site-packages\\keras\\optimizer_v2\\optimizer_v2.py:355: UserWarning: The `lr` argument is deprecated, use `learning_rate` instead.\n",
      "  warnings.warn(\n"
     ]
    },
    {
     "name": "stdout",
     "output_type": "stream",
     "text": [
      "Epoch 1/20\n",
      "363/363 [==============================] - 1s 1ms/step - loss: 1.6440 - mae: 0.9067 - val_loss: 0.8302 - val_mae: 0.6525\n",
      "Epoch 2/20\n",
      "363/363 [==============================] - 0s 1ms/step - loss: 0.7308 - mae: 0.6203 - val_loss: 0.6836 - val_mae: 0.5956\n",
      "Epoch 3/20\n",
      "363/363 [==============================] - 0s 1ms/step - loss: 0.6501 - mae: 0.5833 - val_loss: 0.6443 - val_mae: 0.5766\n",
      "Epoch 4/20\n",
      "363/363 [==============================] - 0s 1ms/step - loss: 0.6147 - mae: 0.5650 - val_loss: 0.6199 - val_mae: 0.5648\n",
      "Epoch 5/20\n",
      "363/363 [==============================] - 0s 1ms/step - loss: 0.5895 - mae: 0.5531 - val_loss: 0.5975 - val_mae: 0.5533\n",
      "Epoch 6/20\n",
      "363/363 [==============================] - 0s 1ms/step - loss: 0.5689 - mae: 0.5422 - val_loss: 0.5783 - val_mae: 0.5442\n",
      "Epoch 7/20\n",
      "363/363 [==============================] - 0s 1ms/step - loss: 0.5521 - mae: 0.5329 - val_loss: 0.5630 - val_mae: 0.5364\n",
      "Epoch 8/20\n",
      "363/363 [==============================] - 0s 1ms/step - loss: 0.5378 - mae: 0.5250 - val_loss: 0.5493 - val_mae: 0.5307\n",
      "Epoch 9/20\n",
      "363/363 [==============================] - 0s 1ms/step - loss: 0.5260 - mae: 0.5187 - val_loss: 0.5382 - val_mae: 0.5260\n",
      "Epoch 10/20\n",
      "363/363 [==============================] - 0s 1ms/step - loss: 0.5161 - mae: 0.5143 - val_loss: 0.5278 - val_mae: 0.5200\n",
      "Epoch 11/20\n",
      "363/363 [==============================] - 0s 1ms/step - loss: 0.5072 - mae: 0.5094 - val_loss: 0.5194 - val_mae: 0.5162\n",
      "Epoch 12/20\n",
      "363/363 [==============================] - 0s 1ms/step - loss: 0.4999 - mae: 0.5057 - val_loss: 0.5125 - val_mae: 0.5124\n",
      "Epoch 13/20\n",
      "363/363 [==============================] - 0s 1ms/step - loss: 0.4935 - mae: 0.5027 - val_loss: 0.5059 - val_mae: 0.5074\n",
      "Epoch 14/20\n",
      "363/363 [==============================] - 0s 1ms/step - loss: 0.4880 - mae: 0.4996 - val_loss: 0.5009 - val_mae: 0.5056\n",
      "Epoch 15/20\n",
      "363/363 [==============================] - 0s 1ms/step - loss: 0.4830 - mae: 0.4970 - val_loss: 0.4971 - val_mae: 0.5055\n",
      "Epoch 16/20\n",
      "363/363 [==============================] - 0s 1ms/step - loss: 0.4788 - mae: 0.4956 - val_loss: 0.4926 - val_mae: 0.5012\n",
      "Epoch 17/20\n",
      "363/363 [==============================] - 0s 1ms/step - loss: 0.4749 - mae: 0.4930 - val_loss: 0.4900 - val_mae: 0.5022\n",
      "Epoch 18/20\n",
      "363/363 [==============================] - 0s 1ms/step - loss: 0.4717 - mae: 0.4929 - val_loss: 0.4867 - val_mae: 0.4964\n",
      "Epoch 19/20\n",
      "363/363 [==============================] - 0s 1ms/step - loss: 0.4686 - mae: 0.4899 - val_loss: 0.4831 - val_mae: 0.4966\n",
      "Epoch 20/20\n",
      "363/363 [==============================] - 0s 1ms/step - loss: 0.4658 - mae: 0.4892 - val_loss: 0.4812 - val_mae: 0.4958\n"
     ]
    }
   ],
   "source": [
    "# Since the dataset is quite noisy,\n",
    "# we just use a single hidden layer with fewer neurons than before,\n",
    "# to avoid overfitting.\n",
    "np.random.seed(42)\n",
    "tf.random.set_seed(42)\n",
    "tf.keras.backend.clear_session()\n",
    "\n",
    "model_1 = keras.models.Sequential([\n",
    "    keras.layers.Dense(30, activation=\"relu\", input_shape=x_train.shape[1:]),\n",
    "    keras.layers.Dense(1)\n",
    "])\n",
    "\n",
    "model_1.compile(loss=\"mean_squared_error\",\n",
    "              optimizer=keras.optimizers.SGD(lr=1e-3),\n",
    "              metrics=['mae'])\n",
    "\n",
    "history = model_1.fit(x_train, y_train, epochs=20, batch_size=32,\n",
    "                    validation_data=(x_valid, y_valid))"
   ]
  },
  {
   "cell_type": "code",
   "execution_count": 58,
   "metadata": {},
   "outputs": [
    {
     "name": "stdout",
     "output_type": "stream",
     "text": [
      "162/162 [==============================] - 0s 782us/step - loss: 0.4757 - mae: 0.4918\n"
     ]
    }
   ],
   "source": [
    "#evaluate model\n",
    "mse_test = model_1.evaluate(x_test, y_test)"
   ]
  },
  {
   "cell_type": "code",
   "execution_count": 60,
   "metadata": {},
   "outputs": [
    {
     "data": {
      "text/plain": [
       "array([[0.749923 ],\n",
       "       [1.879406 ],\n",
       "       [1.7586114],\n",
       "       [2.212727 ]], dtype=float32)"
      ]
     },
     "execution_count": 60,
     "metadata": {},
     "output_type": "execute_result"
    }
   ],
   "source": [
    "#predict\n",
    "x_new = x_test[10:14]\n",
    "y_pred = model_1.predict(x_new)\n",
    "y_pred"
   ]
  },
  {
   "cell_type": "code",
   "execution_count": 61,
   "metadata": {},
   "outputs": [
    {
     "data": {
      "text/plain": [
       "array([1.232, 2.539, 2.151, 2.205])"
      ]
     },
     "execution_count": 61,
     "metadata": {},
     "output_type": "execute_result"
    }
   ],
   "source": [
    "y_test[10:14]"
   ]
  },
  {
   "cell_type": "code",
   "execution_count": 62,
   "metadata": {},
   "outputs": [
    {
     "data": {
      "image/png": "[encoded data removed]",
      "text/plain": [
       "<Figure size 576x360 with 1 Axes>"
      ]
     },
     "metadata": {
      "needs_background": "light"
     },
     "output_type": "display_data"
    }
   ],
   "source": [
    "pd.DataFrame(history.history).plot(figsize=(8, 5))\n",
    "plt.grid(True)\n",
    "plt.gca().set_ylim(0, 1)\n",
    "plt.show()"
   ]
  },
  {
   "cell_type": "code",
   "execution_count": null,
   "metadata": {},
   "outputs": [],
   "source": []
  },
  {
   "cell_type": "code",
   "execution_count": null,
   "metadata": {},
   "outputs": [],
   "source": []
  },
  {
   "cell_type": "markdown",
   "metadata": {},
   "source": [
    "# Building Complex Models Using the Functional API\n",
    "\n",
    "## <font color=\"orange\">Wide & Deep</font>  neral network"
   ]
  },
  {
   "cell_type": "markdown",
   "metadata": {},
   "source": [
    "<div class=\"alert alert-block alert-success\">\n",
    "\n",
    "**<font color=\"black\">It connects all or part of the inputs directly to the output layer. This architecture makes it possible for the neural network to learn both deep patterns (using the deep path) and simple rules (through the short path).</font>**\n",
    "\n",
    "**<font color=\"black\">A regular MPL forces all the data to flow through the full stack of layers; thus, simple patterns in the data may end up being distorted by this sequence of transformation.</font>** \n",
    "</div>"
   ]
  },
  {
   "cell_type": "code",
   "execution_count": 30,
   "metadata": {},
   "outputs": [
    {
     "data": {
      "text/html": [
       "<img src=\"wide-and-deep-neural-network.png\" width=\"400\" height=\"400\"/>"
      ],
      "text/plain": [
       "<IPython.core.display.Image object>"
      ]
     },
     "execution_count": 30,
     "metadata": {},
     "output_type": "execute_result"
    }
   ],
   "source": [
    "Image(url= \"wide-and-deep-neural-network.png\", width=400, height=400)"
   ]
  },
  {
   "cell_type": "code",
   "execution_count": 63,
   "metadata": {},
   "outputs": [],
   "source": [
    "input_ = keras.layers.Input(shape=x_train.shape[1:]) # shape: (8,)\n",
    "hidden1 = keras.layers.Dense(30, activation=\"relu\")(input_)\n",
    "hidden2 = keras.layers.Dense(30, activation=\"relu\")(hidden1)\n",
    "concat = keras.layers.Concatenate()([input_, hidden2])\n",
    "output = keras.layers.Dense(1)(concat)\n",
    "model_1 = keras.Model(inputs=[input_], outputs=[output])"
   ]
  },
  {
   "cell_type": "markdown",
   "metadata": {},
   "source": [
    "<div class=\"alert alert block alert-info\">\n",
    "<b>Code Above:</b>\n",
    "    \n",
    "<font color=\"black\"><b>input_ :</b>  Specification of the kind of input the model will get, including its **<span style=\"font-family:Lucida Sans Unicode\">shape</span>** and **<span style=\"font-family:Lucida Sans Unicode\">dtype</span>** (a model can have multiple inputs)</font> \n",
    "    \n",
    "<font color=\"black\"><b>hidden1 :</b> a dense layer with 30 neurons, using the **<span style=\"font-family:Lucida Sans Unicode\">ReLU</span>** activation function, passing the input (**Keras is connecting the layers together; no actual data is being processed yet**). <font color=\"Brown\">This is why this is called a Functional API</font> \n",
    "    \n",
    "<font color=\"black\"><b>hidden2 :</b> secound dense layer with 30 neurons, again used as a function.The output from **hidden1** is being passed in as the argument.  \n",
    "    \n",
    "<font color=\"black\"><b>concat :</b> <span style=\"font-family:Lucida Sans Unicode\">Concatenate</span> layer; used to concatinate the **input_** (first layer) and output from **hidden2**\n",
    "    \n",
    "<font color=\"black\"><b>output :</b> with 1 neuron and no activation function, and called like a function passing in the result from **concat**\n",
    "    \n",
    "<font color=\"black\"><b>model_1 :</b> creating Keras model, specifying which inputs and outputs to use.    \n",
    "</div>\n",
    "\n"
   ]
  },
  {
   "cell_type": "code",
   "execution_count": 64,
   "metadata": {},
   "outputs": [
    {
     "name": "stdout",
     "output_type": "stream",
     "text": [
      "Model: \"model\"\n",
      "__________________________________________________________________________________________________\n",
      "Layer (type)                    Output Shape         Param #     Connected to                     \n",
      "==================================================================================================\n",
      "input_1 (InputLayer)            [(None, 8)]          0                                            \n",
      "__________________________________________________________________________________________________\n",
      "dense_2 (Dense)                 (None, 30)           270         input_1[0][0]                    \n",
      "__________________________________________________________________________________________________\n",
      "dense_3 (Dense)                 (None, 30)           930         dense_2[0][0]                    \n",
      "__________________________________________________________________________________________________\n",
      "concatenate (Concatenate)       (None, 38)           0           input_1[0][0]                    \n",
      "                                                                 dense_3[0][0]                    \n",
      "__________________________________________________________________________________________________\n",
      "dense_4 (Dense)                 (None, 1)            39          concatenate[0][0]                \n",
      "==================================================================================================\n",
      "Total params: 1,239\n",
      "Trainable params: 1,239\n",
      "Non-trainable params: 0\n",
      "__________________________________________________________________________________________________\n"
     ]
    }
   ],
   "source": [
    "model_1.summary()"
   ]
  },
  {
   "cell_type": "code",
   "execution_count": null,
   "metadata": {},
   "outputs": [],
   "source": []
  },
  {
   "cell_type": "code",
   "execution_count": 65,
   "metadata": {},
   "outputs": [
    {
     "name": "stderr",
     "output_type": "stream",
     "text": [
      "C:\\Users\\mkcle\\anaconda3\\lib\\site-packages\\keras\\optimizer_v2\\optimizer_v2.py:355: UserWarning: The `lr` argument is deprecated, use `learning_rate` instead.\n",
      "  warnings.warn(\n"
     ]
    },
    {
     "name": "stdout",
     "output_type": "stream",
     "text": [
      "Epoch 1/20\n",
      "363/363 [==============================] - 1s 1ms/step - loss: 1.8818 - mae: 1.0131 - val_loss: 0.7490 - val_mae: 0.6103\n",
      "Epoch 2/20\n",
      "363/363 [==============================] - 0s 1ms/step - loss: 0.6765 - mae: 0.5825 - val_loss: 0.6373 - val_mae: 0.5699\n",
      "Epoch 3/20\n",
      "363/363 [==============================] - 0s 1ms/step - loss: 0.6169 - mae: 0.5628 - val_loss: 0.6004 - val_mae: 0.5540\n",
      "Epoch 4/20\n",
      "363/363 [==============================] - 0s 1ms/step - loss: 0.5771 - mae: 0.5455 - val_loss: 0.5769 - val_mae: 0.5436\n",
      "Epoch 5/20\n",
      "363/363 [==============================] - 0s 1ms/step - loss: 0.5570 - mae: 0.5374 - val_loss: 0.5571 - val_mae: 0.5338\n",
      "Epoch 6/20\n",
      "363/363 [==============================] - 0s 1ms/step - loss: 0.5375 - mae: 0.5277 - val_loss: 0.5427 - val_mae: 0.5282\n",
      "Epoch 7/20\n",
      "363/363 [==============================] - 0s 1ms/step - loss: 0.5237 - mae: 0.5201 - val_loss: 0.5308 - val_mae: 0.5210\n",
      "Epoch 8/20\n",
      "363/363 [==============================] - 0s 1ms/step - loss: 0.5119 - mae: 0.5138 - val_loss: 0.5200 - val_mae: 0.5173\n",
      "Epoch 9/20\n",
      "363/363 [==============================] - 0s 1ms/step - loss: 0.5030 - mae: 0.5094 - val_loss: 0.5124 - val_mae: 0.5143\n",
      "Epoch 10/20\n",
      "363/363 [==============================] - 0s 1ms/step - loss: 0.4958 - mae: 0.5062 - val_loss: 0.5059 - val_mae: 0.5093\n",
      "Epoch 11/20\n",
      "363/363 [==============================] - 0s 1ms/step - loss: 0.4887 - mae: 0.5024 - val_loss: 0.5002 - val_mae: 0.5060\n",
      "Epoch 12/20\n",
      "363/363 [==============================] - 0s 1ms/step - loss: 0.4835 - mae: 0.4996 - val_loss: 0.4964 - val_mae: 0.5042\n",
      "Epoch 13/20\n",
      "363/363 [==============================] - 0s 1ms/step - loss: 0.4787 - mae: 0.4978 - val_loss: 0.4920 - val_mae: 0.4987\n",
      "Epoch 14/20\n",
      "363/363 [==============================] - 0s 1ms/step - loss: 0.4746 - mae: 0.4949 - val_loss: 0.4878 - val_mae: 0.4975\n",
      "Epoch 15/20\n",
      "363/363 [==============================] - 0s 1ms/step - loss: 0.4706 - mae: 0.4923 - val_loss: 0.4852 - val_mae: 0.4989\n",
      "Epoch 16/20\n",
      "363/363 [==============================] - 0s 1ms/step - loss: 0.4677 - mae: 0.4916 - val_loss: 0.4817 - val_mae: 0.4944\n",
      "Epoch 17/20\n",
      "363/363 [==============================] - 0s 1ms/step - loss: 0.4643 - mae: 0.4893 - val_loss: 0.4811 - val_mae: 0.4968\n",
      "Epoch 18/20\n",
      "363/363 [==============================] - 0s 1ms/step - loss: 0.4618 - mae: 0.4888 - val_loss: 0.4780 - val_mae: 0.4890\n",
      "Epoch 19/20\n",
      "363/363 [==============================] - 1s 1ms/step - loss: 0.4590 - mae: 0.4859 - val_loss: 0.4745 - val_mae: 0.4916\n",
      "Epoch 20/20\n",
      "363/363 [==============================] - 0s 1ms/step - loss: 0.4564 - mae: 0.4853 - val_loss: 0.4729 - val_mae: 0.4901\n"
     ]
    }
   ],
   "source": [
    "#compile the model\n",
    "model_1.compile(loss=\"mean_squared_error\",\n",
    "              optimizer=keras.optimizers.SGD(lr=1e-3),\n",
    "              metrics=['mae'])\n",
    "\n",
    "history_1 = model_1.fit(x_train, y_train, epochs=20, batch_size=32,\n",
    "                    validation_data=(x_valid, y_valid))"
   ]
  },
  {
   "cell_type": "code",
   "execution_count": 66,
   "metadata": {},
   "outputs": [
    {
     "name": "stdout",
     "output_type": "stream",
     "text": [
      "162/162 - 0s - loss: 0.4680 - mae: 0.4884\n"
     ]
    },
    {
     "data": {
      "text/plain": [
       "[0.46802419424057007, 0.4883664548397064]"
      ]
     },
     "execution_count": 66,
     "metadata": {},
     "output_type": "execute_result"
    }
   ],
   "source": [
    "#evaluate model\n",
    "model_1.evaluate(x_test, y_test, verbose=2)"
   ]
  },
  {
   "cell_type": "code",
   "execution_count": 67,
   "metadata": {},
   "outputs": [
    {
     "data": {
      "image/png": "[encoded data removed]",
      "text/plain": [
       "<Figure size 576x360 with 1 Axes>"
      ]
     },
     "metadata": {
      "needs_background": "light"
     },
     "output_type": "display_data"
    }
   ],
   "source": [
    "pd.DataFrame(history_1.history).plot(figsize=(8, 5))\n",
    "plt.grid(True)\n",
    "plt.gca().set_ylim(0, 1)\n",
    "plt.show()"
   ]
  },
  {
   "cell_type": "code",
   "execution_count": null,
   "metadata": {},
   "outputs": [],
   "source": []
  },
  {
   "cell_type": "code",
   "execution_count": null,
   "metadata": {},
   "outputs": [],
   "source": []
  },
  {
   "cell_type": "markdown",
   "metadata": {},
   "source": [
    "<div class=\"alert alert-block alert-success\">\n",
    "    \n",
    "**<font color=\"Black\">If I want to send a subset of the features through the wide path and a different subset (possible overlapping) through the deep path, `one sollution is to use multiple inputs`**\n",
    "    \n",
    "<font color=\"Black\">Example: suppose I want to send 5 features through the wide path, and 6 features through the deep path (code below)   \n",
    "     \n",
    "</div>"
   ]
  },
  {
   "cell_type": "code",
   "execution_count": 68,
   "metadata": {},
   "outputs": [
    {
     "data": {
      "text/html": [
       "<img src=\"handling-multiple-inputs.png\" width=\"400\" height=\"400\"/>"
      ],
      "text/plain": [
       "<IPython.core.display.Image object>"
      ]
     },
     "execution_count": 68,
     "metadata": {},
     "output_type": "execute_result"
    }
   ],
   "source": [
    "Image(url= \"handling-multiple-inputs.png\", width=400, height=400)"
   ]
  },
  {
   "cell_type": "code",
   "execution_count": 69,
   "metadata": {},
   "outputs": [
    {
     "name": "stdout",
     "output_type": "stream",
     "text": [
      "Model: \"model\"\n",
      "__________________________________________________________________________________________________\n",
      "Layer (type)                    Output Shape         Param #     Connected to                     \n",
      "==================================================================================================\n",
      "deep_input (InputLayer)         [(None, 6)]          0                                            \n",
      "__________________________________________________________________________________________________\n",
      "dense (Dense)                   (None, 30)           210         deep_input[0][0]                 \n",
      "__________________________________________________________________________________________________\n",
      "wide_input (InputLayer)         [(None, 5)]          0                                            \n",
      "__________________________________________________________________________________________________\n",
      "dense_1 (Dense)                 (None, 30)           930         dense[0][0]                      \n",
      "__________________________________________________________________________________________________\n",
      "concatenate (Concatenate)       (None, 35)           0           wide_input[0][0]                 \n",
      "                                                                 dense_1[0][0]                    \n",
      "__________________________________________________________________________________________________\n",
      "output (Dense)                  (None, 1)            36          concatenate[0][0]                \n",
      "==================================================================================================\n",
      "Total params: 1,176\n",
      "Trainable params: 1,176\n",
      "Non-trainable params: 0\n",
      "__________________________________________________________________________________________________\n"
     ]
    }
   ],
   "source": [
    "np.random.seed(42)\n",
    "tf.random.set_seed(42)\n",
    "tf.keras.backend.clear_session()\n",
    "\n",
    "# send 5 features through the wide path (features 0 - 4)\n",
    "# and all features through the deep path\n",
    "input_A = keras.layers.Input(shape=[5], name=\"wide_input\")\n",
    "input_B = keras.layers.Input(shape=[6], name=\"deep_input\")\n",
    "hidden1 = keras.layers.Dense(30, activation=\"relu\")(input_B)\n",
    "hidden2 = keras.layers.Dense(30, activation=\"relu\")(hidden1)\n",
    "concat = keras.layers.concatenate([input_A, hidden2]) # make sure concatenate is spelled with a lower case for functional API\n",
    "output = keras.layers.Dense(1, name=\"output\")(concat)\n",
    "model_2 = keras.Model(inputs=[input_A, input_B], outputs=[output])\n",
    "\n",
    "model_2.summary()"
   ]
  },
  {
   "cell_type": "markdown",
   "metadata": {},
   "source": [
    "<div class=\"alert alert block alert-info\">\n",
    "<font color=\"black\"><b>Compiling model_2:</b>\n",
    "    \n",
    "<font color=\"black\">When calling method **fit()** a pair of matrices must be passed **`(x_train_A, x_train_B)`**: one per input, same for **`x_valid`** and **`x_test`** when calling **evaluate()** or **predict()**    \n",
    "    \n",
    "</div>"
   ]
  },
  {
   "cell_type": "code",
   "execution_count": 70,
   "metadata": {},
   "outputs": [],
   "source": [
    "# split data into 2 groups 'A' and 'B'\n",
    "x_train_A, x_train_B = x_train[:, :5], x_train[:, 2:]\n",
    "x_valid_A, x_valid_B = x_valid[:, :5], x_valid[:, 2:]\n",
    "x_test_A, x_test_B = x_test[:, :5], x_test[:, 2:]\n",
    "\n",
    "# a couple of samples to make predictions in the end\n",
    "x_new_A, x_new_B = x_train_A[:3], x_train_B[:3]"
   ]
  },
  {
   "cell_type": "code",
   "execution_count": 71,
   "metadata": {},
   "outputs": [
    {
     "name": "stderr",
     "output_type": "stream",
     "text": [
      "C:\\Users\\mkcle\\anaconda3\\lib\\site-packages\\keras\\optimizer_v2\\optimizer_v2.py:355: UserWarning: The `lr` argument is deprecated, use `learning_rate` instead.\n",
      "  warnings.warn(\n"
     ]
    },
    {
     "name": "stdout",
     "output_type": "stream",
     "text": [
      "Epoch 1/20\n",
      "363/363 [==============================] - 1s 1ms/step - loss: 1.8248 - val_loss: 0.7923\n",
      "Epoch 2/20\n",
      "363/363 [==============================] - 0s 1ms/step - loss: 0.7055 - val_loss: 0.6450\n",
      "Epoch 3/20\n",
      "363/363 [==============================] - 0s 1ms/step - loss: 0.6258 - val_loss: 0.6057\n",
      "Epoch 4/20\n",
      "363/363 [==============================] - 0s 1ms/step - loss: 0.5910 - val_loss: 0.5840\n",
      "Epoch 5/20\n",
      "363/363 [==============================] - 0s 1ms/step - loss: 0.5690 - val_loss: 0.5665\n",
      "Epoch 6/20\n",
      "363/363 [==============================] - 0s 1ms/step - loss: 0.5508 - val_loss: 0.5542\n",
      "Epoch 7/20\n",
      "363/363 [==============================] - 0s 1ms/step - loss: 0.5373 - val_loss: 0.5430\n",
      "Epoch 8/20\n",
      "363/363 [==============================] - 0s 1ms/step - loss: 0.5256 - val_loss: 0.5343\n",
      "Epoch 9/20\n",
      "363/363 [==============================] - 0s 1ms/step - loss: 0.5168 - val_loss: 0.5270\n",
      "Epoch 10/20\n",
      "363/363 [==============================] - 0s 1ms/step - loss: 0.5093 - val_loss: 0.5214\n",
      "Epoch 11/20\n",
      "363/363 [==============================] - 0s 1ms/step - loss: 0.5027 - val_loss: 0.5163\n",
      "Epoch 12/20\n",
      "363/363 [==============================] - 0s 1ms/step - loss: 0.4972 - val_loss: 0.5128\n",
      "Epoch 13/20\n",
      "363/363 [==============================] - 0s 1ms/step - loss: 0.4925 - val_loss: 0.5091\n",
      "Epoch 14/20\n",
      "363/363 [==============================] - 0s 1ms/step - loss: 0.4887 - val_loss: 0.5048\n",
      "Epoch 15/20\n",
      "363/363 [==============================] - 0s 1ms/step - loss: 0.4845 - val_loss: 0.5027\n",
      "Epoch 16/20\n",
      "363/363 [==============================] - 0s 1ms/step - loss: 0.4818 - val_loss: 0.4996\n",
      "Epoch 17/20\n",
      "363/363 [==============================] - 0s 1ms/step - loss: 0.4782 - val_loss: 0.4978\n",
      "Epoch 18/20\n",
      "363/363 [==============================] - 0s 1ms/step - loss: 0.4759 - val_loss: 0.4953\n",
      "Epoch 19/20\n",
      "363/363 [==============================] - 0s 1ms/step - loss: 0.4732 - val_loss: 0.4923\n",
      "Epoch 20/20\n",
      "363/363 [==============================] - 0s 1ms/step - loss: 0.4708 - val_loss: 0.4910\n"
     ]
    }
   ],
   "source": [
    "#compiling model_2\n",
    "model_2.compile(loss=\"mse\", optimizer=keras.optimizers.SGD(lr=1e-3))\n",
    "\n",
    "#fit model_2\n",
    "history_2 = model_2.fit((x_train_A, x_train_B), y_train, epochs=20,\n",
    "                      validation_data=((x_valid_A, x_valid_B), y_valid))"
   ]
  },
  {
   "cell_type": "code",
   "execution_count": 72,
   "metadata": {},
   "outputs": [
    {
     "name": "stdout",
     "output_type": "stream",
     "text": [
      "162/162 [==============================] - 0s 836us/step - loss: 0.4846\n"
     ]
    }
   ],
   "source": [
    "mse_test = model_2.evaluate((x_test_A, x_test_B), y_test)"
   ]
  },
  {
   "cell_type": "code",
   "execution_count": 73,
   "metadata": {},
   "outputs": [
    {
     "name": "stdout",
     "output_type": "stream",
     "text": [
      "WARNING:tensorflow:6 out of the last 7 calls to <function Model.make_predict_function.<locals>.predict_function at 0x0000026373C58D30> triggered tf.function retracing. Tracing is expensive and the excessive number of tracings could be due to (1) creating @tf.function repeatedly in a loop, (2) passing tensors with different shapes, (3) passing Python objects instead of tensors. For (1), please define your @tf.function outside of the loop. For (2), @tf.function has experimental_relax_shapes=True option that relaxes argument shapes that can avoid unnecessary retracing. For (3), please refer to https://www.tensorflow.org/guide/function#controlling_retracing and https://www.tensorflow.org/api_docs/python/tf/function for  more details.\n"
     ]
    },
    {
     "data": {
      "text/plain": [
       "array([[1.8298836],\n",
       "       [2.1852634],\n",
       "       [2.489046 ]], dtype=float32)"
      ]
     },
     "execution_count": 73,
     "metadata": {},
     "output_type": "execute_result"
    }
   ],
   "source": [
    "#predict\n",
    "y_pred = model_2.predict((x_new_A, x_new_B))\n",
    "y_pred"
   ]
  },
  {
   "cell_type": "code",
   "execution_count": 85,
   "metadata": {},
   "outputs": [
    {
     "data": {
      "image/png": "[encoded data removed]",
      "text/plain": [
       "<Figure size 576x360 with 1 Axes>"
      ]
     },
     "metadata": {
      "needs_background": "light"
     },
     "output_type": "display_data"
    }
   ],
   "source": [
    "pd.DataFrame(history_2.history).plot(figsize=(8, 5))\n",
    "plt.grid(True)\n",
    "plt.gca().set_ylim(0, 1)\n",
    "plt.show()"
   ]
  },
  {
   "cell_type": "markdown",
   "metadata": {},
   "source": [
    "<div class=\"alert alert-block alert-success\">\n",
    "    \n",
    "**<font color=\"Black\">Adding extra outputs, `connect them to the appropriate layears and add the to the model's list of outluts`**\n",
    "     \n",
    "</div>"
   ]
  },
  {
   "cell_type": "code",
   "execution_count": 75,
   "metadata": {},
   "outputs": [
    {
     "data": {
      "text/html": [
       "<img src=\"handling-multiple-outputs-adding-an-auxiliary-output.png\" width=\"600\" height=\"600\"/>"
      ],
      "text/plain": [
       "<IPython.core.display.Image object>"
      ]
     },
     "execution_count": 75,
     "metadata": {},
     "output_type": "execute_result"
    }
   ],
   "source": [
    "Image(url= \"handling-multiple-outputs-adding-an-auxiliary-output.png\", width=600, height=600)"
   ]
  },
  {
   "cell_type": "code",
   "execution_count": 79,
   "metadata": {},
   "outputs": [
    {
     "name": "stdout",
     "output_type": "stream",
     "text": [
      "Model: \"model\"\n",
      "__________________________________________________________________________________________________\n",
      "Layer (type)                    Output Shape         Param #     Connected to                     \n",
      "==================================================================================================\n",
      "deep (InputLayer)               [(None, 6)]          0                                            \n",
      "__________________________________________________________________________________________________\n",
      "dense (Dense)                   (None, 30)           210         deep[0][0]                       \n",
      "__________________________________________________________________________________________________\n",
      "wide (InputLayer)               [(None, 5)]          0                                            \n",
      "__________________________________________________________________________________________________\n",
      "dense_1 (Dense)                 (None, 30)           930         dense[0][0]                      \n",
      "__________________________________________________________________________________________________\n",
      "concatenate (Concatenate)       (None, 35)           0           wide[0][0]                       \n",
      "                                                                 dense_1[0][0]                    \n",
      "__________________________________________________________________________________________________\n",
      "main_output (Dense)             (None, 1)            36          concatenate[0][0]                \n",
      "__________________________________________________________________________________________________\n",
      "aux_output (Dense)              (None, 1)            31          dense_1[0][0]                    \n",
      "==================================================================================================\n",
      "Total params: 1,207\n",
      "Trainable params: 1,207\n",
      "Non-trainable params: 0\n",
      "__________________________________________________________________________________________________\n"
     ]
    }
   ],
   "source": [
    "np.random.seed(42)\n",
    "tf.random.set_seed(42)\n",
    "tf.keras.backend.clear_session()\n",
    "\n",
    "# add an auxiliary output for regularization\n",
    "input_A = keras.layers.Input(shape=[5], name='wide')\n",
    "input_B = keras.layers.Input(shape=[6], name='deep')\n",
    "hidden1 = keras.layers.Dense(30, activation='relu')(input_B)\n",
    "hidden2 = keras.layers.Dense(30, activation='relu')(hidden1)\n",
    "# auxiliary output\n",
    "aux_output = keras.layers.Dense(1, name='aux_output')(hidden2)  \n",
    "concat = keras.layers.concatenate([input_A, hidden2])\n",
    "main_output = keras.layers.Dense(1, name='main_output')(concat)\n",
    "\n",
    "model_3 = keras.Model(inputs=[input_A, input_B],\n",
    "                    outputs=[main_output, aux_output])\n",
    "\n",
    "model_3.summary()"
   ]
  },
  {
   "cell_type": "markdown",
   "metadata": {},
   "source": [
    "<div class=\"alert alert block alert-info\">\n",
    "<font color=\"black\"><b>Compiling model_3:</b>\n",
    "    \n",
    "<font color=\"black\">**In this case each needs its own** `loss function`. **When compiling the model a list of losses should be passed** (if one loss is passed: Keras will assume that the same loos must be used for all outputs).\n",
    "    \n",
    "**Give the main output's loss a much greater weight.**\n",
    "    \n",
    "</div>"
   ]
  },
  {
   "cell_type": "code",
   "execution_count": 80,
   "metadata": {},
   "outputs": [
    {
     "name": "stdout",
     "output_type": "stream",
     "text": [
      "Epoch 1/20\n",
      "363/363 [==============================] - 1s 2ms/step - loss: 2.1692 - main_output_loss: 1.7461 - aux_output_loss: 5.9779 - main_output_mae: 0.9568 - aux_output_mae: 2.1304 - val_loss: 1.2573 - val_main_output_loss: 0.9012 - val_aux_output_loss: 4.4619 - val_main_output_mae: 0.6919 - val_aux_output_mae: 1.7696\n",
      "Epoch 2/20\n",
      "363/363 [==============================] - 1s 1ms/step - loss: 1.0882 - main_output_loss: 0.8238 - aux_output_loss: 3.4677 - main_output_mae: 0.6683 - aux_output_mae: 1.4696 - val_loss: 0.9279 - val_main_output_loss: 0.7228 - val_aux_output_loss: 2.7739 - val_main_output_mae: 0.6312 - val_aux_output_mae: 1.2302\n",
      "Epoch 3/20\n",
      "363/363 [==============================] - 1s 2ms/step - loss: 0.8601 - main_output_loss: 0.7025 - aux_output_loss: 2.2781 - main_output_mae: 0.6249 - aux_output_mae: 1.0943 - val_loss: 0.8029 - val_main_output_loss: 0.6642 - val_aux_output_loss: 2.0514 - val_main_output_mae: 0.6017 - val_aux_output_mae: 0.9978\n",
      "Epoch 4/20\n",
      "363/363 [==============================] - 1s 2ms/step - loss: 0.7661 - main_output_loss: 0.6538 - aux_output_loss: 1.7766 - main_output_mae: 0.5996 - aux_output_mae: 0.9472 - val_loss: 0.7423 - val_main_output_loss: 0.6333 - val_aux_output_loss: 1.7236 - val_main_output_mae: 0.5865 - val_aux_output_mae: 0.9131\n",
      "Epoch 5/20\n",
      "363/363 [==============================] - 1s 2ms/step - loss: 0.7159 - main_output_loss: 0.6232 - aux_output_loss: 1.5499 - main_output_mae: 0.5836 - aux_output_mae: 0.8932 - val_loss: 0.7035 - val_main_output_loss: 0.6093 - val_aux_output_loss: 1.5507 - val_main_output_mae: 0.5741 - val_aux_output_mae: 0.8799\n",
      "Epoch 6/20\n",
      "363/363 [==============================] - 1s 2ms/step - loss: 0.6830 - main_output_loss: 0.6000 - aux_output_loss: 1.4305 - main_output_mae: 0.5712 - aux_output_mae: 0.8698 - val_loss: 0.6771 - val_main_output_loss: 0.5916 - val_aux_output_loss: 1.4468 - val_main_output_mae: 0.5640 - val_aux_output_mae: 0.8666\n",
      "Epoch 7/20\n",
      "363/363 [==============================] - 1s 1ms/step - loss: 0.6588 - main_output_loss: 0.5812 - aux_output_loss: 1.3575 - main_output_mae: 0.5600 - aux_output_mae: 0.8573 - val_loss: 0.6559 - val_main_output_loss: 0.5767 - val_aux_output_loss: 1.3688 - val_main_output_mae: 0.5558 - val_aux_output_mae: 0.8584\n",
      "Epoch 8/20\n",
      "363/363 [==============================] - 1s 2ms/step - loss: 0.6391 - main_output_loss: 0.5653 - aux_output_loss: 1.3036 - main_output_mae: 0.5514 - aux_output_mae: 0.8490 - val_loss: 0.6392 - val_main_output_loss: 0.5646 - val_aux_output_loss: 1.3101 - val_main_output_mae: 0.5492 - val_aux_output_mae: 0.8512\n",
      "Epoch 9/20\n",
      "363/363 [==============================] - 1s 2ms/step - loss: 0.6233 - main_output_loss: 0.5525 - aux_output_loss: 1.2601 - main_output_mae: 0.5436 - aux_output_mae: 0.8409 - val_loss: 0.6251 - val_main_output_loss: 0.5540 - val_aux_output_loss: 1.2646 - val_main_output_mae: 0.5454 - val_aux_output_mae: 0.8456\n",
      "Epoch 10/20\n",
      "363/363 [==============================] - 1s 1ms/step - loss: 0.6102 - main_output_loss: 0.5417 - aux_output_loss: 1.2265 - main_output_mae: 0.5380 - aux_output_mae: 0.8348 - val_loss: 0.6137 - val_main_output_loss: 0.5454 - val_aux_output_loss: 1.2285 - val_main_output_mae: 0.5378 - val_aux_output_mae: 0.8391\n",
      "Epoch 11/20\n",
      "363/363 [==============================] - 1s 1ms/step - loss: 0.5986 - main_output_loss: 0.5320 - aux_output_loss: 1.1975 - main_output_mae: 0.5318 - aux_output_mae: 0.8285 - val_loss: 0.6043 - val_main_output_loss: 0.5385 - val_aux_output_loss: 1.1971 - val_main_output_mae: 0.5344 - val_aux_output_mae: 0.8329\n",
      "Epoch 12/20\n",
      "363/363 [==============================] - 1s 1ms/step - loss: 0.5888 - main_output_loss: 0.5241 - aux_output_loss: 1.1707 - main_output_mae: 0.5271 - aux_output_mae: 0.8224 - val_loss: 0.5957 - val_main_output_loss: 0.5318 - val_aux_output_loss: 1.1706 - val_main_output_mae: 0.5310 - val_aux_output_mae: 0.8264\n",
      "Epoch 13/20\n",
      "363/363 [==============================] - 1s 1ms/step - loss: 0.5801 - main_output_loss: 0.5171 - aux_output_loss: 1.1471 - main_output_mae: 0.5238 - aux_output_mae: 0.8156 - val_loss: 0.5884 - val_main_output_loss: 0.5261 - val_aux_output_loss: 1.1489 - val_main_output_mae: 0.5234 - val_aux_output_mae: 0.8196\n",
      "Epoch 14/20\n",
      "363/363 [==============================] - 1s 1ms/step - loss: 0.5726 - main_output_loss: 0.5112 - aux_output_loss: 1.1258 - main_output_mae: 0.5189 - aux_output_mae: 0.8093 - val_loss: 0.5820 - val_main_output_loss: 0.5214 - val_aux_output_loss: 1.1273 - val_main_output_mae: 0.5229 - val_aux_output_mae: 0.8141\n",
      "Epoch 15/20\n",
      "363/363 [==============================] - 1s 1ms/step - loss: 0.5656 - main_output_loss: 0.5057 - aux_output_loss: 1.1051 - main_output_mae: 0.5156 - aux_output_mae: 0.8028 - val_loss: 0.5773 - val_main_output_loss: 0.5185 - val_aux_output_loss: 1.1064 - val_main_output_mae: 0.5241 - val_aux_output_mae: 0.8088\n",
      "Epoch 16/20\n",
      "363/363 [==============================] - 1s 1ms/step - loss: 0.5597 - main_output_loss: 0.5014 - aux_output_loss: 1.0844 - main_output_mae: 0.5138 - aux_output_mae: 0.7968 - val_loss: 0.5713 - val_main_output_loss: 0.5137 - val_aux_output_loss: 1.0891 - val_main_output_mae: 0.5183 - val_aux_output_mae: 0.8021\n",
      "Epoch 17/20\n",
      "363/363 [==============================] - 1s 1ms/step - loss: 0.5539 - main_output_loss: 0.4970 - aux_output_loss: 1.0662 - main_output_mae: 0.5106 - aux_output_mae: 0.7900 - val_loss: 0.5676 - val_main_output_loss: 0.5117 - val_aux_output_loss: 1.0702 - val_main_output_mae: 0.5197 - val_aux_output_mae: 0.7971\n",
      "Epoch 18/20\n",
      "363/363 [==============================] - 1s 2ms/step - loss: 0.5489 - main_output_loss: 0.4935 - aux_output_loss: 1.0474 - main_output_mae: 0.5098 - aux_output_mae: 0.7850 - val_loss: 0.5621 - val_main_output_loss: 0.5075 - val_aux_output_loss: 1.0541 - val_main_output_mae: 0.5114 - val_aux_output_mae: 0.7889\n",
      "Epoch 19/20\n",
      "363/363 [==============================] - 1s 1ms/step - loss: 0.5442 - main_output_loss: 0.4902 - aux_output_loss: 1.0299 - main_output_mae: 0.5065 - aux_output_mae: 0.7775 - val_loss: 0.5585 - val_main_output_loss: 0.5055 - val_aux_output_loss: 1.0358 - val_main_output_mae: 0.5132 - val_aux_output_mae: 0.7836\n",
      "Epoch 20/20\n",
      "363/363 [==============================] - 1s 2ms/step - loss: 0.5397 - main_output_loss: 0.4871 - aux_output_loss: 1.0128 - main_output_mae: 0.5050 - aux_output_mae: 0.7715 - val_loss: 0.5554 - val_main_output_loss: 0.5039 - val_aux_output_loss: 1.0193 - val_main_output_mae: 0.5133 - val_aux_output_mae: 0.7775\n"
     ]
    }
   ],
   "source": [
    "model_3.compile(\n",
    "    loss=[\"mse\", \"mse\"],    # each output need its own loss function\n",
    "    loss_weights=[0.9, 0.1],   # give the main output's loss a much greater weight\n",
    "    optimizer=keras.optimizers.SGD(lr=1e-3),\n",
    "    metrics=[\"mae\"])\n",
    "\n",
    "history_3 = model_3.fit(\n",
    "    [x_train_A, x_train_B], [y_train, y_train], epochs=20, batch_size=32,\n",
    "    validation_data=([x_valid_A, x_valid_B], [y_valid, y_valid]))"
   ]
  },
  {
   "cell_type": "code",
   "execution_count": 82,
   "metadata": {},
   "outputs": [
    {
     "name": "stdout",
     "output_type": "stream",
     "text": [
      "162/162 - 0s - loss: 0.5505 - main_output_loss: 0.5020 - aux_output_loss: 0.9871 - main_output_mae: 0.5104 - aux_output_mae: 0.7638\n"
     ]
    },
    {
     "data": {
      "text/plain": [
       "[0.550479531288147,\n",
       " 0.5019632577896118,\n",
       " 0.987126886844635,\n",
       " 0.5103853940963745,\n",
       " 0.7637625336647034]"
      ]
     },
     "execution_count": 82,
     "metadata": {},
     "output_type": "execute_result"
    }
   ],
   "source": [
    "# When evaluating the model,\n",
    "# Keras will return the total loss, as well as all the individual losses\n",
    "model_3.evaluate((x_test_A, x_test_B), (y_test, y_test), verbose=2)"
   ]
  },
  {
   "cell_type": "code",
   "execution_count": 83,
   "metadata": {},
   "outputs": [
    {
     "name": "stdout",
     "output_type": "stream",
     "text": [
      "162/162 - 0s - loss: 0.5505 - main_output_loss: 0.5020 - aux_output_loss: 0.9871 - main_output_mae: 0.5104 - aux_output_mae: 0.7638\n"
     ]
    }
   ],
   "source": [
    "total_loss, main_loss, aux_loss, main_mae, aux_mae = model_3.evaluate((x_test_A, x_test_B), (y_test, y_test), verbose=2)"
   ]
  },
  {
   "cell_type": "code",
   "execution_count": 84,
   "metadata": {},
   "outputs": [
    {
     "data": {
      "text/plain": [
       "0.5504796206951141"
      ]
     },
     "execution_count": 84,
     "metadata": {},
     "output_type": "execute_result"
    }
   ],
   "source": [
    "main_loss*0.9 + aux_loss*0.1"
   ]
  },
  {
   "cell_type": "code",
   "execution_count": 87,
   "metadata": {},
   "outputs": [
    {
     "data": {
      "image/png": "[encoded data removed]",
      "text/plain": [
       "<Figure size 576x360 with 1 Axes>"
      ]
     },
     "metadata": {
      "needs_background": "light"
     },
     "output_type": "display_data"
    }
   ],
   "source": [
    "pd.DataFrame(history_3.history).plot(figsize=(8, 5))\n",
    "plt.grid(True)\n",
    "plt.gca().set_ylim(0, 1)\n",
    "plt.legend(loc=\"center left\", bbox_to_anchor=(1, 0.5))\n",
    "plt.show()"
   ]
  },
  {
   "cell_type": "code",
   "execution_count": null,
   "metadata": {},
   "outputs": [],
   "source": []
  },
  {
   "cell_type": "code",
   "execution_count": null,
   "metadata": {},
   "outputs": [],
   "source": []
  },
  {
   "cell_type": "code",
   "execution_count": 88,
   "metadata": {},
   "outputs": [],
   "source": [
    "# save the model\n",
    "# model.save('./models/chap10-models/my_keras_model.h5')"
   ]
  },
  {
   "cell_type": "code",
   "execution_count": 89,
   "metadata": {},
   "outputs": [],
   "source": [
    "# load the saved model\n",
    "# model = keras.models.load_model('./models/chap10-models/my_keras_model.h5')\n",
    "# model.summary()"
   ]
  },
  {
   "cell_type": "code",
   "execution_count": null,
   "metadata": {},
   "outputs": [],
   "source": [
    "# use the model to make predictions\n",
    "# model_2.predict(x_test)"
   ]
  },
  {
   "cell_type": "code",
   "execution_count": null,
   "metadata": {},
   "outputs": [],
   "source": []
  },
  {
   "cell_type": "code",
   "execution_count": null,
   "metadata": {},
   "outputs": [],
   "source": []
  },
  {
   "cell_type": "code",
   "execution_count": null,
   "metadata": {},
   "outputs": [],
   "source": []
  },
  {
   "cell_type": "code",
   "execution_count": null,
   "metadata": {},
   "outputs": [],
   "source": []
  }
 ],
 "metadata": {
  "kernelspec": {
   "display_name": "Python 3",
   "language": "python",
   "name": "python3"
  },
  "language_info": {
   "codemirror_mode": {
    "name": "ipython",
    "version": 3
   },
   "file_extension": ".py",
   "mimetype": "text/x-python",
   "name": "python",
   "nbconvert_exporter": "python",
   "pygments_lexer": "ipython3",
   "version": "3.8.5"
  }
 },
 "nbformat": 4,
 "nbformat_minor": 4
}
